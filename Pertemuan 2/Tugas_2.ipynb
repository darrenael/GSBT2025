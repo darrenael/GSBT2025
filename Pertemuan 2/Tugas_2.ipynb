{
  "nbformat": 4,
  "nbformat_minor": 0,
  "metadata": {
    "colab": {
      "provenance": []
    },
    "kernelspec": {
      "name": "python3",
      "display_name": "Python 3"
    },
    "language_info": {
      "name": "python"
    }
  },
  "cells": [
    {
      "cell_type": "markdown",
      "source": [
        "# Overview Materi\n",
        "\n",
        "Source: https://www.youtube.com/watch?v=LDRbO9a6XPU"
      ],
      "metadata": {
        "id": "fQjXfMWTFXhh"
      }
    },
    {
      "cell_type": "markdown",
      "source": [
        "Jelaskan secara singkat apa itu decision tree menurut pemahamanmu!"
      ],
      "metadata": {
        "id": "UH5otNgmFY4r"
      }
    },
    {
      "cell_type": "markdown",
      "source": [
        "Decision tree adalah algoritma machine learning untuk klasifikasi dan regresi data. Decision tree dipakai dengan cara mengajukan pertanyaan/syarat berdasarkan impurity dan mengambil information gain yang tertinggi."
      ],
      "metadata": {
        "id": "mgsr4M57NDuR"
      }
    },
    {
      "cell_type": "markdown",
      "source": [
        "# Import Data & Libraries"
      ],
      "metadata": {
        "id": "yR_dxhoaIGZY"
      }
    },
    {
      "cell_type": "code",
      "execution_count": 2,
      "metadata": {
        "id": "E3fobMaeFOAe"
      },
      "outputs": [],
      "source": [
        "from __future__ import print_function\n",
        "\n",
        "# label kolom\n",
        "header = [\"color\", \"diameter\", \"label\"]\n",
        "\n",
        "# data training\n",
        "training_data = [\n",
        "    ['Green', 3, 'Apple'],\n",
        "    ['Yellow', 3, 'Apple'],\n",
        "    ['Red', 1, 'Grape'],\n",
        "    ['Red', 1, 'Grape'],\n",
        "    ['Yellow', 3, 'Lemon'],]\n",
        "\n",
        "# data testing\n",
        "testing_data = [\n",
        "    ['Green', 3, 'Apple'],\n",
        "    ['Yellow', 4, 'Apple'],\n",
        "    ['Red', 2, 'Grape'],\n",
        "    ['Red', 1, 'Grape'],\n",
        "    ['Yellow', 3, 'Lemon'],]"
      ]
    },
    {
      "cell_type": "markdown",
      "source": [
        "# Fungsi Dasar"
      ],
      "metadata": {
        "id": "YMsTb3E1MWY6"
      }
    },
    {
      "cell_type": "code",
      "source": [
        "# fungsi mencari apa saja unique value dari suatu kolom\n",
        "...\n",
        "\n",
        "# contoh penggunaan\n",
        "..."
      ],
      "metadata": {
        "id": "Bgzx5gwhSTWp"
      },
      "execution_count": 3,
      "outputs": []
    },
    {
      "cell_type": "code",
      "source": [
        "# deklarasi fungsi\n",
        "def get_unique(a,b):\n",
        "    result = {}\n",
        "\n",
        "# ambil unique value dari tiap kolom dan simpan ke result\n",
        "    for ncolumn in header:\n",
        "        index_column = header.index(ncolumn)\n",
        "        value = [row[index_column] for row in a]\n",
        "        result[ncolumn] = set(value)\n",
        "    return result\n",
        "\n",
        "# gunain fungsi tadi ke list training data\n",
        "unique_value = get_unique(training_data, header)\n",
        "# loop untuk print\n",
        "print(\"Unique values di training_data:\")\n",
        "for column, value in unique_value.items():\n",
        "    print(f\"{column}: {value}\")\n",
        "\n",
        "print(\"\\nUnique values di testing_data:\")\n",
        "\n",
        "# list testing data\n",
        "unique_value = get_unique_all(testing_data, header)\n",
        "\n",
        "for column, value in unique_value.items():\n",
        "    print(f\"{column}: {value}\")"
      ],
      "metadata": {
        "colab": {
          "base_uri": "https://localhost:8080/"
        },
        "id": "V8Pv9-P1TC1I",
        "outputId": "ae7dbbf3-7912-415c-e934-d451cb48c968"
      },
      "execution_count": 4,
      "outputs": [
        {
          "output_type": "stream",
          "name": "stdout",
          "text": [
            "Unique values di training_data:\n",
            "color: {'Green', 'Yellow', 'Red'}\n",
            "diameter: {1, 3}\n",
            "label: {'Lemon', 'Apple', 'Grape'}\n",
            "\n",
            "Unique values di testing_data:\n",
            "color: ['Green', 'Yellow', 'Red']\n",
            "diameter: [1, 2, 3, 4]\n",
            "label: ['Lemon', 'Apple', 'Grape']\n"
          ]
        }
      ]
    },
    {
      "cell_type": "code",
      "source": [
        "# fungsi Menghitung jumlah unique value dari suatu kolom\n",
        "def class_counts(rows):\n",
        "    ...\n",
        "    return counts\n",
        "\n",
        "# contoh penggunaan\n",
        "..."
      ],
      "metadata": {
        "id": "hhF6uUhrJesN",
        "colab": {
          "base_uri": "https://localhost:8080/"
        },
        "outputId": "73ee9488-e078-4390-8304-ed37fc8a5713"
      },
      "execution_count": 7,
      "outputs": [
        {
          "output_type": "execute_result",
          "data": {
            "text/plain": [
              "Ellipsis"
            ]
          },
          "metadata": {},
          "execution_count": 7
        }
      ]
    },
    {
      "cell_type": "code",
      "source": [
        "def class_counts(rows, header):\n",
        "    counts = {}  # pakai header, agar bisa loop untuk setiap kolom\n",
        "\n",
        "    for column_name in header:\n",
        "        index_col = header.index(column_name)\n",
        "        col_counts = {}\n",
        "\n",
        "        for row in rows:\n",
        "            value = row[index_col]\n",
        "\n",
        "            if value not in col_counts:\n",
        "                col_counts[value] = 0\n",
        "\n",
        "            col_counts[value] += 1\n",
        "\n",
        "        counts[column_name] = col_counts\n",
        "\n",
        "    return counts\n",
        "\n",
        "result1 = class_counts(training_data, header)\n",
        "print(f\"Count Unique Training Data:{result1}\")\n",
        "\n",
        "result2 = class_counts(training_data, header)\n",
        "print(f\"Count Unique Testing Data:{result2}\")"
      ],
      "metadata": {
        "colab": {
          "base_uri": "https://localhost:8080/"
        },
        "id": "DgAHKMHl1D-s",
        "outputId": "b9e51a04-0e9a-4f13-cb3f-12e6b6d1f4af"
      },
      "execution_count": 17,
      "outputs": [
        {
          "output_type": "stream",
          "name": "stdout",
          "text": [
            "Count Unique Training Data:{'color': {'Green': 1, 'Yellow': 2, 'Red': 2}, 'diameter': {3: 3, 1: 2}, 'label': {'Apple': 2, 'Grape': 2, 'Lemon': 1}}\n",
            "Count Unique Testing Data:{'color': {'Green': 1, 'Yellow': 2, 'Red': 2}, 'diameter': {3: 3, 1: 2}, 'label': {'Apple': 2, 'Grape': 2, 'Lemon': 1}}\n"
          ]
        }
      ]
    },
    {
      "cell_type": "code",
      "source": [
        "# fungsi pengecekan suatu value numerik atau bukan\n",
        "def is_numeric(value):\n",
        "    ...\n",
        "\n",
        "# contoh penggunaan\n",
        "..."
      ],
      "metadata": {
        "id": "U9mxqVcnI9vw"
      },
      "execution_count": null,
      "outputs": []
    },
    {
      "cell_type": "code",
      "source": [
        "def is_numeric(value):\n",
        "    return isinstance(value, int) or isinstance(value, float)\n",
        "\n",
        "for i, row in enumerate(training_data, start=1):\n",
        "    print(f\"Baris {i}:\")\n",
        "    for col_name, value in zip(header, row):\n",
        "        print(f\"  {col_name} = {value} = {is_numeric(value)}\")\n",
        "    print(\"-\" * 25)"
      ],
      "metadata": {
        "colab": {
          "base_uri": "https://localhost:8080/"
        },
        "id": "UM2YDyVc3yS0",
        "outputId": "1779046e-b0d2-4fec-a0c6-ff9cc4dbf761"
      },
      "execution_count": 22,
      "outputs": [
        {
          "output_type": "stream",
          "name": "stdout",
          "text": [
            "Baris 1:\n",
            "  color = Green = False\n",
            "  diameter = 3 = True\n",
            "  label = Apple = False\n",
            "-------------------------\n",
            "Baris 2:\n",
            "  color = Yellow = False\n",
            "  diameter = 3 = True\n",
            "  label = Apple = False\n",
            "-------------------------\n",
            "Baris 3:\n",
            "  color = Red = False\n",
            "  diameter = 1 = True\n",
            "  label = Grape = False\n",
            "-------------------------\n",
            "Baris 4:\n",
            "  color = Red = False\n",
            "  diameter = 1 = True\n",
            "  label = Grape = False\n",
            "-------------------------\n",
            "Baris 5:\n",
            "  color = Yellow = False\n",
            "  diameter = 3 = True\n",
            "  label = Lemon = False\n",
            "-------------------------\n"
          ]
        }
      ]
    },
    {
      "cell_type": "code",
      "source": [
        "# kelas untuk merepresentasikan pertanyaan pada decision tree\n",
        "class Question:\n",
        "\n",
        "    # inisialisasi kolom dan nilai pertanyaan\n",
        "    def __init__(self, column, value):\n",
        "        ...\n",
        "\n",
        "    # mengecek apakah contoh data sesuai dengan pertanyaan\n",
        "    def match(self, example):\n",
        "        ...\n",
        "\n",
        "    # menampilkan pertanyaan dalam format string yang mudah dibaca\n",
        "    def __repr__(self):\n",
        "        ...\n",
        "\n",
        "# contoh penggunaan 1\n",
        "..."
      ],
      "metadata": {
        "id": "MekftmdeLPRo"
      },
      "execution_count": null,
      "outputs": []
    },
    {
      "cell_type": "code",
      "source": [
        "def function_q(nilai):\n",
        "    return isinstance(nilai, int) or isinstance(nilai, float)\n",
        "\n",
        "header = [\"color\", \"diameter\", \"label\"]\n",
        "\n",
        "class Question:\n",
        "    def __init__(self, kolom, nilai):\n",
        "        self.coba_kolom = kolom\n",
        "        self.coba_nilai = nilai\n",
        "\n",
        "    def match(self, example):\n",
        "        val = example[self.coba_kolom]\n",
        "        if function_q(val):\n",
        "            return val >= self.coba_nilai\n",
        "        else:\n",
        "            return val == self.coba_nilai\n",
        "\n",
        "    def __repr__(self):\n",
        "        condition = \">=\" if function_q(self.coba_nilai) else \"==\"\n",
        "        return f\"Apakah {header[self.coba_kolom]} {condition} {self.coba_nilai}?\"\n",
        "\n",
        "q1 = Question(0, \"Red\")\n",
        "q2 = Question(1, 3)\n",
        "\n",
        "print(q1)\n",
        "print(q2)"
      ],
      "metadata": {
        "colab": {
          "base_uri": "https://localhost:8080/"
        },
        "id": "DMQRGRRV4oHz",
        "outputId": "22021573-542a-4efc-d69d-4318b23243e3"
      },
      "execution_count": 35,
      "outputs": [
        {
          "output_type": "stream",
          "name": "stdout",
          "text": [
            "Apakah color == Red?\n",
            "Apakah diameter >= 3?\n"
          ]
        }
      ]
    },
    {
      "cell_type": "code",
      "source": [
        "# membagi dataset menjadi dua berdasarkan pertanyaan\n",
        "def partition(rows, question):\n",
        "    ...\n",
        "\n",
        "# contoh penggunaan\n",
        "..."
      ],
      "metadata": {
        "id": "Y3lTf9NbL8Ik"
      },
      "execution_count": null,
      "outputs": []
    },
    {
      "cell_type": "code",
      "source": [
        "def partition(rows, question):\n",
        "    kolom_baik = []\n",
        "    kolom_jahat = []\n",
        "    for row in rows:\n",
        "        if question.match(row):\n",
        "            kolom_baik.append(row)\n",
        "        else:\n",
        "            kolom_jahat.append(row)\n",
        "    return kolom_baik, kolom_jahat\n",
        "\n",
        "q = Question(1, 3)\n",
        "\n",
        "kolom_baik, kolom_jahat = partition(training_data, q)\n",
        "\n",
        "print(\"Pertanyaan:\", q)\n",
        "print(\"\\nData True:\")\n",
        "for row in kolom_baik:\n",
        "    print(row)\n",
        "\n",
        "print(\"\\nData False:\")\n",
        "for row in kolom_jahat:\n",
        "    print(row)"
      ],
      "metadata": {
        "colab": {
          "base_uri": "https://localhost:8080/"
        },
        "id": "FBKXdtNc61gm",
        "outputId": "797aec74-a366-40cf-84a0-ce00d73dfb4a"
      },
      "execution_count": 40,
      "outputs": [
        {
          "output_type": "stream",
          "name": "stdout",
          "text": [
            "Pertanyaan: Apakah diameter >= 3?\n",
            "\n",
            "Data True:\n",
            "['Green', 3, 'Apple']\n",
            "['Yellow', 3, 'Apple']\n",
            "['Yellow', 3, 'Lemon']\n",
            "\n",
            "Data False:\n",
            "['Red', 1, 'Grape']\n",
            "['Red', 1, 'Grape']\n"
          ]
        }
      ]
    },
    {
      "cell_type": "markdown",
      "source": [
        "**apa itu gini impurity?**\n",
        "<br> gini impurity berfungsi mengukur tingkat ketidakmurnian atau ketidakteraturan pada sebuah simpul (node) dalam pohon"
      ],
      "metadata": {
        "id": "X4D5BkyeMdSG"
      }
    },
    {
      "cell_type": "code",
      "source": [
        "# menghitung nilai Gini Impurity untuk sebuah dataset\n",
        "def gini(rows):\n",
        "    ...\n",
        "\n",
        "# contoh penggunaan\n",
        "..."
      ],
      "metadata": {
        "id": "DmAnmSzFMKtA"
      },
      "execution_count": null,
      "outputs": []
    },
    {
      "cell_type": "code",
      "source": [
        "def brp_label(rows):\n",
        "    counts = {}\n",
        "    for row in rows:\n",
        "        label = row[-1]\n",
        "        counts[label] = counts.get(label, 0) + 1\n",
        "    return counts\n",
        "\n",
        "def itung(rows):\n",
        "    counts = brp_label(rows)\n",
        "    impurity = 1\n",
        "    total = len(rows)\n",
        "    for label in counts:\n",
        "        prob_of_label = counts[label] / total\n",
        "        impurity -= prob_of_label ** 2\n",
        "    return impurity\n",
        "\n",
        "print(\"Impurity seluruh data:\", gini(training_data))"
      ],
      "metadata": {
        "colab": {
          "base_uri": "https://localhost:8080/"
        },
        "id": "W9Ji88Or7tbK",
        "outputId": "dbf55fcf-d055-4fbe-cc55-50b0eafeff08"
      },
      "execution_count": 42,
      "outputs": [
        {
          "output_type": "stream",
          "name": "stdout",
          "text": [
            "Impurity seluruh data: 0.6399999999999999\n"
          ]
        }
      ]
    },
    {
      "cell_type": "markdown",
      "source": [
        "**apa itu information gain?**\n",
        "<br> information gain berfungsi mengukur seberapa efektif sebuah fitur dalam memisahkan data berdasarkan kelas-kelasnya"
      ],
      "metadata": {
        "id": "SyxWlLNOM_2U"
      }
    },
    {
      "cell_type": "code",
      "source": [
        "# menghitung nilai Information Gain dari pemisahan dataset\n",
        "def info_gain(left, right, current_uncertainty):\n",
        "    ...\n",
        "\n",
        "# contoh penggunaan\n",
        "..."
      ],
      "metadata": {
        "id": "rObVucEEMiIZ"
      },
      "execution_count": null,
      "outputs": []
    },
    {
      "cell_type": "code",
      "source": [
        "def count_labels(rows):\n",
        "    counts = {}\n",
        "    for row in rows:\n",
        "        label = row[-1]\n",
        "        counts[label] = counts.get(label, 0) + 1\n",
        "    return counts\n",
        "\n",
        "def gini(rows):\n",
        "    counts = count_labels(rows)\n",
        "    impurity = 1\n",
        "    total = len(rows)\n",
        "    for label in counts:\n",
        "        prob_of_label = counts[label] / total\n",
        "        impurity -= prob_of_label ** 2\n",
        "    return impurity\n",
        "\n",
        "def info_gain(left, right, current_uncertainty):\n",
        "    total = len(left) + len(right)\n",
        "    p = len(left) / total\n",
        "    return current_uncertainty - p * gini(left) - (1 - p) * gini(right)\n",
        "\n",
        "q = Question(1, 3)\n",
        "kolom_baik, kolom_jahat = partition(training_data, q)\n",
        "\n",
        "current_uncertainty = gini(training_data)\n",
        "gain = info_gain(kolom_baik, kolom_jahat, current_uncertainty)\n",
        "\n",
        "print(\"Pertanyaan:\", q)\n",
        "print(\"Information Gain:\", gain)"
      ],
      "metadata": {
        "colab": {
          "base_uri": "https://localhost:8080/"
        },
        "id": "roaoK39C8E8j",
        "outputId": "73fc165c-592c-4d25-9465-f219e1e4e88d"
      },
      "execution_count": 45,
      "outputs": [
        {
          "output_type": "stream",
          "name": "stdout",
          "text": [
            "Pertanyaan: Apakah diameter >= 3?\n",
            "Information Gain: 0.37333333333333324\n"
          ]
        }
      ]
    },
    {
      "cell_type": "code",
      "source": [
        "# mencari pertanyaan terbaik untuk membagi dataset berdasarkan information gain tertinggi\n",
        "def find_best_split(rows):\n",
        "    ...\n",
        "\n",
        "            # splitting the dataset\n",
        "            ...\n",
        "\n",
        "            # Skip this split if it doesn't divide the dataset\n",
        "            ...\n",
        "\n",
        "            ...\n",
        "\n",
        "    return best_gain, best_question\n",
        "\n",
        "# contoh penggunaan\n",
        "..."
      ],
      "metadata": {
        "id": "OK8Lc7koOIyS"
      },
      "execution_count": null,
      "outputs": []
    },
    {
      "cell_type": "code",
      "source": [
        "def count_labels(rows):\n",
        "    counts = {}\n",
        "    for row in rows:\n",
        "        label = row[-1]\n",
        "        counts[label] = counts.get(label, 0) + 1\n",
        "    return counts\n",
        "\n",
        "def gini(rows):\n",
        "    counts = count_labels(rows)\n",
        "    impurity = 1\n",
        "    total = len(rows)\n",
        "    for label in counts:\n",
        "        prob_of_label = counts[label] / total\n",
        "        impurity -= prob_of_label ** 2\n",
        "    return impurity\n",
        "\n",
        "def info_gain(left, right, current_uncertainty):\n",
        "    total = len(left) + len(right)\n",
        "    p = len(left) / total\n",
        "    return current_uncertainty - p * gini(left) - (1 - p) * gini(right)\n",
        "\n",
        "def find_best_split(rows):\n",
        "    best_gain = 0\n",
        "    best_question = None\n",
        "    current_uncertainty = gini(rows)\n",
        "    n_features = len(rows[0]) - 1\n",
        "\n",
        "    for col in range(n_features):\n",
        "        values = set([row[col] for row in rows])\n",
        "\n",
        "        for val in values:\n",
        "            question = Question(col, val)\n",
        "            true_rows, false_rows = partition(rows, question)\n",
        "\n",
        "            if len(true_rows) == 0 or len(false_rows) == 0:\n",
        "                continue\n",
        "\n",
        "            gain = info_gain(true_rows, false_rows, current_uncertainty)\n",
        "\n",
        "            if gain >= best_gain:\n",
        "                best_gain, best_question = gain, question\n",
        "\n",
        "    return best_gain, best_question\n",
        "\n",
        "best_gain, best_question = find_best_split(training_data)\n",
        "\n",
        "print(\"Best Gain:\", best_gain)\n",
        "print(\"Best Question:\", best_question)\n"
      ],
      "metadata": {
        "colab": {
          "base_uri": "https://localhost:8080/"
        },
        "id": "OHw9npEa8utu",
        "outputId": "5d177e5e-be36-4b60-923a-6140b14334c7"
      },
      "execution_count": 47,
      "outputs": [
        {
          "output_type": "stream",
          "name": "stdout",
          "text": [
            "Best Gain: 0.37333333333333324\n",
            "Best Question: Apakah diameter >= 3?\n"
          ]
        }
      ]
    },
    {
      "cell_type": "markdown",
      "source": [
        "# Fungsi Decision Tree"
      ],
      "metadata": {
        "id": "t225xaaIPGow"
      }
    },
    {
      "cell_type": "code",
      "source": [
        "  # merepresentasikan node daun (leaf) pada decision tree yang berisi hasil prediksi\n",
        "  class Leaf:\n",
        "\n",
        "      # inisialisasi leaf dengan menghitung jumlah kemunculan tiap kelas\n",
        "      def __init__(self, rows):\n",
        "          ..."
      ],
      "metadata": {
        "id": "3KXNVwMPOZ5c"
      },
      "execution_count": 52,
      "outputs": []
    },
    {
      "cell_type": "code",
      "source": [
        "def count_labels(rows):\n",
        "    counts = {}\n",
        "    for row in rows:\n",
        "        label = row[-1]\n",
        "        counts[label] = counts.get(label, 0) + 1\n",
        "    return counts\n",
        "\n",
        "class daun:\n",
        "    def __init__(self, rows):\n",
        "        self.predictions = count_labels(rows)\n",
        "\n",
        "daun = daun(training_data)\n",
        "print(\"Prediksi di daun:\", daun.predictions)"
      ],
      "metadata": {
        "colab": {
          "base_uri": "https://localhost:8080/"
        },
        "id": "diB5CXWk9bVf",
        "outputId": "e03880ce-a900-4aa4-b1bd-bef29d561595"
      },
      "execution_count": 51,
      "outputs": [
        {
          "output_type": "stream",
          "name": "stdout",
          "text": [
            "Prediksi di daun: {'Apple': 2, 'Grape': 2, 'Lemon': 1}\n"
          ]
        }
      ]
    },
    {
      "cell_type": "code",
      "source": [
        "# merepresentasikan node keputusan (decision node) yang berisi pertanyaan dan cabang\n",
        "class Decision_Node:\n",
        "\n",
        "    # inisialisasi node dengan pertanyaan, cabang benar, dan cabang salah\n",
        "    def __init__(self,\n",
        "                 question,\n",
        "                 true_branch,\n",
        "                 false_branch):\n",
        "        ...\n"
      ],
      "metadata": {
        "id": "gktUwUY-P-eN"
      },
      "execution_count": null,
      "outputs": []
    },
    {
      "cell_type": "code",
      "source": [
        "class Question:\n",
        "    def __init__(self, col, val):\n",
        "        self.col = col\n",
        "        self.val = val\n",
        "\n",
        "    def match(self, row):\n",
        "        return row[self.col] >= self.val if isinstance(row[self.col], (int, float)) else row[self.col] == self.val\n",
        "\n",
        "    def __repr__(self):\n",
        "        op = \">=\" if isinstance(self.val, (int, float)) else \"==\"\n",
        "        return f\"Apakah {header[self.col]} {op} {self.val}?\"\n",
        "\n",
        "def partition(rows, question):\n",
        "    t, f = [], []\n",
        "    for r in rows:\n",
        "        (t if question.match(r) else f).append(r)\n",
        "    return t, f\n",
        "\n",
        "def count_labels(rows):\n",
        "    counts = {}\n",
        "    for r in rows:\n",
        "        counts[r[-1]] = counts.get(r[-1], 0) + 1\n",
        "    return counts\n",
        "\n",
        "class Leaf:\n",
        "    def __init__(self, rows):\n",
        "        self.predictions = count_labels(rows)\n",
        "\n",
        "class Decision_Node:\n",
        "    def __init__(self, q, t_branch, f_branch):\n",
        "        self.question = q\n",
        "        self.true_branch = t_branch\n",
        "        self.false_branch = f_branch\n",
        "\n",
        "\n",
        "q = Question(1, 3)\n",
        "true_rows, false_rows = partition(training_data, q)\n",
        "node = Decision_Node(q, Leaf(true_rows), Leaf(false_rows))\n",
        "\n",
        "print(\"Question:\", node.question)\n",
        "print(\"True Branch (Daun):\", node.true_branch.predictions)\n",
        "print(\"False Branch (Daun):\", node.false_branch.predictions)"
      ],
      "metadata": {
        "colab": {
          "base_uri": "https://localhost:8080/"
        },
        "id": "BZGbxt2o-WcZ",
        "outputId": "309f2479-b673-414a-eec7-f2f17c8ec778"
      },
      "execution_count": 61,
      "outputs": [
        {
          "output_type": "stream",
          "name": "stdout",
          "text": [
            "Question: Apakah diameter >= 3?\n",
            "True Branch (Daun): {'Apple': 2, 'Lemon': 1}\n",
            "False Branch (Daun): {'Grape': 2}\n"
          ]
        }
      ]
    },
    {
      "cell_type": "code",
      "source": [
        "# membangun decision tree secara rekursif\n",
        "def build_tree(rows):\n",
        "    ...\n",
        "    return Decision_Node(question, true_branch, false_branch)"
      ],
      "metadata": {
        "id": "_cWHvsMKPPsk"
      },
      "execution_count": null,
      "outputs": []
    },
    {
      "cell_type": "code",
      "source": [
        "def bangun_pohon(baris2):\n",
        "    gain, pertanyaan = cari_belah_terbaik(baris2)\n",
        "    if gain == 0:\n",
        "        return Daun(baris2)\n",
        "    ya, tidak = belah_data(baris2, pertanyaan)\n",
        "    cabang_ya = bangun_pohon(ya)\n",
        "    cabang_tidak = bangun_pohon(tidak)\n",
        "    return NodeKeputusan(pertanyaan, cabang_ya, cabang_tidak)"
      ],
      "metadata": {
        "id": "4tPdRlGq_wDU"
      },
      "execution_count": null,
      "outputs": []
    },
    {
      "cell_type": "code",
      "source": [
        "# mencetak struktur decision tree secara rekursif dalam format teks\n",
        "def print_tree(node, spacing=\"\"):\n",
        "\n",
        "    # base case: jika sudah mencapai leaf\n",
        "    ...\n",
        "\n",
        "    # mencetak pertanyaan pada node saat ini\n",
        "    ...\n",
        "\n",
        "    # mencetak cabang true secara rekursif\n",
        "    ...\n",
        "\n",
        "    # mencetak cabang false secara rekursif\n",
        "    ...\n",
        "\n",
        "# contoh penggunaan\n",
        "..."
      ],
      "metadata": {
        "id": "tx_AbjiYPS05"
      },
      "execution_count": null,
      "outputs": []
    },
    {
      "cell_type": "code",
      "source": [
        "def print_tree(node, spacing=\"\"):\n",
        "\n",
        "    # base case: jika sudah mencapai leaf\n",
        "    if isinstance(node, Leaf):\n",
        "        print(spacing + \"Prediksi:\", node.predictions)\n",
        "        return\n",
        "\n",
        "    # mencetak pertanyaan pada node saat ini\n",
        "    print(spacing + str(node.question))\n",
        "\n",
        "    # mencetak cabang true secara rekursif\n",
        "    print(spacing + \"--> True:\")\n",
        "    print_tree(node.true_branch, spacing + \"  \")\n",
        "\n",
        "    # mencetak cabang false secara rekursif\n",
        "    print(spacing + \"--> False:\")\n",
        "    print_tree(node.false_branch, spacing + \"  \")\n",
        "\n",
        "tree = build_tree(training_data)\n",
        "print_tree(tree)\n"
      ],
      "metadata": {
        "colab": {
          "base_uri": "https://localhost:8080/"
        },
        "id": "Tn_I3NMO_8UV",
        "outputId": "196f370a-0371-477c-acf4-72abbdf70679"
      },
      "execution_count": 65,
      "outputs": [
        {
          "output_type": "stream",
          "name": "stdout",
          "text": [
            "Apakah diameter >= 3?\n",
            "--> True:\n",
            "  Apakah color == Yellow?\n",
            "  --> True:\n",
            "    Prediksi: {'Apple': 1, 'Lemon': 1}\n",
            "  --> False:\n",
            "    Prediksi: {'Apple': 1}\n",
            "--> False:\n",
            "  Prediksi: {'Grape': 2}\n"
          ]
        }
      ]
    },
    {
      "cell_type": "code",
      "source": [
        "# mengklasifikasikan satu baris data menggunakan decision tree\n",
        "def classify(row, node):\n",
        "\n",
        "    # base case: jika sudah mencapai leaf\n",
        "    ...\n",
        "\n",
        "    # menentukan apakah mengikuti cabang true atau cabang false\n",
        "    # dengan membandingkan nilai fitur pada baris dengan pertanyaan di node\n",
        "    ...\n",
        "\n",
        "# contoh penggunaan\n",
        "..."
      ],
      "metadata": {
        "id": "tchvhQc-PVC2"
      },
      "execution_count": null,
      "outputs": []
    },
    {
      "cell_type": "code",
      "source": [
        "# mengklasifikasikan satu baris data menggunakan decision tree\n",
        "def classify(row, node):\n",
        "\n",
        "    # base case: jika sudah mencapai leaf\n",
        "    if isinstance(node, Leaf):\n",
        "        return node.predictions\n",
        "\n",
        "    # menentukan apakah mengikuti cabang true atau cabang false\n",
        "    # dengan membandingkan nilai fitur pada baris dengan pertanyaan di node\n",
        "    if node.question.match(row):\n",
        "        return classify(row, node.true_branch)\n",
        "    else:\n",
        "        return classify(row, node.false_branch)\n",
        "\n",
        "\n",
        "# contoh penggunaan\n",
        "tree = build_tree(training_data)\n",
        "row_baru = ['Green', 3]\n",
        "hasil = classify(row_baru, tree)\n",
        "print(\"Hasil klasifikasi:\", hasil)"
      ],
      "metadata": {
        "colab": {
          "base_uri": "https://localhost:8080/"
        },
        "id": "2NcCoAcRAw3X",
        "outputId": "1d724c00-0a16-490f-9d6e-990b149602d5"
      },
      "execution_count": 67,
      "outputs": [
        {
          "output_type": "stream",
          "name": "stdout",
          "text": [
            "Hasil klasifikasi: {'Apple': 1}\n"
          ]
        }
      ]
    },
    {
      "cell_type": "code",
      "source": [
        "# menampilkan prediksi pada leaf dalam format persentase\n",
        "def print_leaf(counts):\n",
        "    ...\n",
        "    return probs\n",
        "\n",
        "# contoh penggunaan\n",
        "..."
      ],
      "metadata": {
        "id": "w8r0lzWpQM7c"
      },
      "execution_count": null,
      "outputs": []
    },
    {
      "cell_type": "code",
      "source": [
        "# menampilkan prediksi pada leaf dalam format persentase\n",
        "def print_leaf(counts):\n",
        "    # menghitung total semua label\n",
        "    total = sum(counts.values())\n",
        "\n",
        "    # menghitung persentase setiap label\n",
        "    probs = {}\n",
        "    for label in counts:\n",
        "        probs[label] = f\"{int(counts[label] / total * 100)}%\"\n",
        "    return probs\n",
        "\n",
        "\n",
        "# contoh penggunaan\n",
        "hasil_leaf = {'Apple': 2, 'Lemon': 1}\n",
        "print(\"Prediksi dalam persentase:\", print_leaf(hasil_leaf))"
      ],
      "metadata": {
        "colab": {
          "base_uri": "https://localhost:8080/"
        },
        "id": "xHNYjaK-DN2G",
        "outputId": "8a516e32-aef5-4a59-9cd1-d25162e266c5"
      },
      "execution_count": 68,
      "outputs": [
        {
          "output_type": "stream",
          "name": "stdout",
          "text": [
            "Prediksi dalam persentase: {'Apple': '66%', 'Lemon': '33%'}\n"
          ]
        }
      ]
    },
    {
      "cell_type": "markdown",
      "source": [
        "# Predict Using Decision Tree"
      ],
      "metadata": {
        "id": "JLT1_TuuQWlI"
      }
    },
    {
      "cell_type": "code",
      "source": [
        "# menguji decision tree dengan data uji dan membandingkan hasil prediksi dengan label asli\n",
        "for row in testing_data:\n",
        "    ..."
      ],
      "metadata": {
        "id": "DhG5NCwHQSlF"
      },
      "execution_count": null,
      "outputs": []
    },
    {
      "cell_type": "code",
      "source": [
        "# menguji decision tree dengan data uji dan membandingkan hasil prediksi dengan label asli\n",
        "for row in testing_data:\n",
        "    prediksi = print_leaf(classify(row, tree))\n",
        "    print(f\"Data Uji: {row[:-1]} | Label Asli: {row[-1]} | Prediksi: {prediksi}\")\n"
      ],
      "metadata": {
        "colab": {
          "base_uri": "https://localhost:8080/"
        },
        "id": "lnqekPzhDadf",
        "outputId": "a12f50b4-e295-43ff-dd66-41a1d0c2c0b5"
      },
      "execution_count": 69,
      "outputs": [
        {
          "output_type": "stream",
          "name": "stdout",
          "text": [
            "Data Uji: ['Green', 3] | Label Asli: Apple | Prediksi: {'Apple': '100%'}\n",
            "Data Uji: ['Yellow', 4] | Label Asli: Apple | Prediksi: {'Apple': '50%', 'Lemon': '50%'}\n",
            "Data Uji: ['Red', 2] | Label Asli: Grape | Prediksi: {'Grape': '100%'}\n",
            "Data Uji: ['Red', 1] | Label Asli: Grape | Prediksi: {'Grape': '100%'}\n",
            "Data Uji: ['Yellow', 3] | Label Asli: Lemon | Prediksi: {'Apple': '50%', 'Lemon': '50%'}\n"
          ]
        }
      ]
    }
  ]
}