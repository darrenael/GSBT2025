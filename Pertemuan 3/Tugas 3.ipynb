{
  "cells": [
    {
      "cell_type": "markdown",
      "id": "e8501fb5-0e3e-4ac4-a33d-1c46bec618c5",
      "metadata": {
        "id": "e8501fb5-0e3e-4ac4-a33d-1c46bec618c5"
      },
      "source": [
        "# Overview Materi"
      ]
    },
    {
      "cell_type": "markdown",
      "id": "ddf97288-67e8-46cb-9c3c-b62f4420e4e0",
      "metadata": {
        "id": "ddf97288-67e8-46cb-9c3c-b62f4420e4e0"
      },
      "source": [
        "Jelaskan perbedaan singkat antara grid, randomized, bayesian search cv dengan optuna menurut pemahamanmu\n",
        "\n",
        "source: https://www.youtube.com/watch?v=t-INgABWULw"
      ]
    },
    {
      "cell_type": "markdown",
      "source": [
        "Grid Search nyoba semua kombinasi parameter yang ada, jadi hasilnya akurat tapi lebih lama. Sedangkan Randomized Search ambil kombinasi secara acak biar lebih efisien.\n",
        "Bayesian SearchCV dan Optuna punya persamaan belajar dari percobaan sebelumnya buat nemuin kombinasi terbaik, tapi Optuna biasanya lebih fleksibel dan performanya lebih bagus."
      ],
      "metadata": {
        "id": "5JivZARrIjXT"
      },
      "id": "5JivZARrIjXT"
    },
    {
      "cell_type": "markdown",
      "id": "3c54fdc7-5a95-43e1-8228-dd2f33f3b006",
      "metadata": {
        "id": "3c54fdc7-5a95-43e1-8228-dd2f33f3b006"
      },
      "source": [
        "# Import Data & Libraries"
      ]
    },
    {
      "cell_type": "code",
      "source": [
        "# jalankan hanya sekali\n",
        "!pip install optuna -q"
      ],
      "metadata": {
        "id": "ZTyJd06_6RJ8"
      },
      "id": "ZTyJd06_6RJ8",
      "execution_count": 86,
      "outputs": []
    },
    {
      "cell_type": "code",
      "execution_count": 87,
      "id": "599a204a-ae03-44a2-ad3c-84e45562c535",
      "metadata": {
        "id": "599a204a-ae03-44a2-ad3c-84e45562c535"
      },
      "outputs": [],
      "source": [
        "# import library yang dibutuhkan di sini\n",
        "..."
      ]
    },
    {
      "cell_type": "code",
      "source": [
        "import pandas as pd\n",
        "import numpy as np\n",
        "import seaborn as sns\n",
        "import optuna\n",
        "\n",
        "from sklearn.ensemble import RandomForestClassifier\n",
        "from sklearn.model_selection import cross_val_score"
      ],
      "metadata": {
        "id": "3cfAidbpI3Ab"
      },
      "id": "3cfAidbpI3Ab",
      "execution_count": 88,
      "outputs": []
    },
    {
      "cell_type": "code",
      "source": [
        "df = sns.load_dataset('iris')\n",
        "df.head()"
      ],
      "metadata": {
        "colab": {
          "base_uri": "https://localhost:8080/",
          "height": 206
        },
        "id": "7hX1QGoD6HRA",
        "outputId": "df90e846-12f4-4cea-9a90-65a1ae26cc09"
      },
      "id": "7hX1QGoD6HRA",
      "execution_count": 89,
      "outputs": [
        {
          "output_type": "execute_result",
          "data": {
            "text/plain": [
              "   sepal_length  sepal_width  petal_length  petal_width species\n",
              "0           5.1          3.5           1.4          0.2  setosa\n",
              "1           4.9          3.0           1.4          0.2  setosa\n",
              "2           4.7          3.2           1.3          0.2  setosa\n",
              "3           4.6          3.1           1.5          0.2  setosa\n",
              "4           5.0          3.6           1.4          0.2  setosa"
            ],
            "text/html": [
              "\n",
              "  <div id=\"df-0309ff5e-7a3a-4742-ab59-e6a0a5ea0d07\" class=\"colab-df-container\">\n",
              "    <div>\n",
              "<style scoped>\n",
              "    .dataframe tbody tr th:only-of-type {\n",
              "        vertical-align: middle;\n",
              "    }\n",
              "\n",
              "    .dataframe tbody tr th {\n",
              "        vertical-align: top;\n",
              "    }\n",
              "\n",
              "    .dataframe thead th {\n",
              "        text-align: right;\n",
              "    }\n",
              "</style>\n",
              "<table border=\"1\" class=\"dataframe\">\n",
              "  <thead>\n",
              "    <tr style=\"text-align: right;\">\n",
              "      <th></th>\n",
              "      <th>sepal_length</th>\n",
              "      <th>sepal_width</th>\n",
              "      <th>petal_length</th>\n",
              "      <th>petal_width</th>\n",
              "      <th>species</th>\n",
              "    </tr>\n",
              "  </thead>\n",
              "  <tbody>\n",
              "    <tr>\n",
              "      <th>0</th>\n",
              "      <td>5.1</td>\n",
              "      <td>3.5</td>\n",
              "      <td>1.4</td>\n",
              "      <td>0.2</td>\n",
              "      <td>setosa</td>\n",
              "    </tr>\n",
              "    <tr>\n",
              "      <th>1</th>\n",
              "      <td>4.9</td>\n",
              "      <td>3.0</td>\n",
              "      <td>1.4</td>\n",
              "      <td>0.2</td>\n",
              "      <td>setosa</td>\n",
              "    </tr>\n",
              "    <tr>\n",
              "      <th>2</th>\n",
              "      <td>4.7</td>\n",
              "      <td>3.2</td>\n",
              "      <td>1.3</td>\n",
              "      <td>0.2</td>\n",
              "      <td>setosa</td>\n",
              "    </tr>\n",
              "    <tr>\n",
              "      <th>3</th>\n",
              "      <td>4.6</td>\n",
              "      <td>3.1</td>\n",
              "      <td>1.5</td>\n",
              "      <td>0.2</td>\n",
              "      <td>setosa</td>\n",
              "    </tr>\n",
              "    <tr>\n",
              "      <th>4</th>\n",
              "      <td>5.0</td>\n",
              "      <td>3.6</td>\n",
              "      <td>1.4</td>\n",
              "      <td>0.2</td>\n",
              "      <td>setosa</td>\n",
              "    </tr>\n",
              "  </tbody>\n",
              "</table>\n",
              "</div>\n",
              "    <div class=\"colab-df-buttons\">\n",
              "\n",
              "  <div class=\"colab-df-container\">\n",
              "    <button class=\"colab-df-convert\" onclick=\"convertToInteractive('df-0309ff5e-7a3a-4742-ab59-e6a0a5ea0d07')\"\n",
              "            title=\"Convert this dataframe to an interactive table.\"\n",
              "            style=\"display:none;\">\n",
              "\n",
              "  <svg xmlns=\"http://www.w3.org/2000/svg\" height=\"24px\" viewBox=\"0 -960 960 960\">\n",
              "    <path d=\"M120-120v-720h720v720H120Zm60-500h600v-160H180v160Zm220 220h160v-160H400v160Zm0 220h160v-160H400v160ZM180-400h160v-160H180v160Zm440 0h160v-160H620v160ZM180-180h160v-160H180v160Zm440 0h160v-160H620v160Z\"/>\n",
              "  </svg>\n",
              "    </button>\n",
              "\n",
              "  <style>\n",
              "    .colab-df-container {\n",
              "      display:flex;\n",
              "      gap: 12px;\n",
              "    }\n",
              "\n",
              "    .colab-df-convert {\n",
              "      background-color: #E8F0FE;\n",
              "      border: none;\n",
              "      border-radius: 50%;\n",
              "      cursor: pointer;\n",
              "      display: none;\n",
              "      fill: #1967D2;\n",
              "      height: 32px;\n",
              "      padding: 0 0 0 0;\n",
              "      width: 32px;\n",
              "    }\n",
              "\n",
              "    .colab-df-convert:hover {\n",
              "      background-color: #E2EBFA;\n",
              "      box-shadow: 0px 1px 2px rgba(60, 64, 67, 0.3), 0px 1px 3px 1px rgba(60, 64, 67, 0.15);\n",
              "      fill: #174EA6;\n",
              "    }\n",
              "\n",
              "    .colab-df-buttons div {\n",
              "      margin-bottom: 4px;\n",
              "    }\n",
              "\n",
              "    [theme=dark] .colab-df-convert {\n",
              "      background-color: #3B4455;\n",
              "      fill: #D2E3FC;\n",
              "    }\n",
              "\n",
              "    [theme=dark] .colab-df-convert:hover {\n",
              "      background-color: #434B5C;\n",
              "      box-shadow: 0px 1px 3px 1px rgba(0, 0, 0, 0.15);\n",
              "      filter: drop-shadow(0px 1px 2px rgba(0, 0, 0, 0.3));\n",
              "      fill: #FFFFFF;\n",
              "    }\n",
              "  </style>\n",
              "\n",
              "    <script>\n",
              "      const buttonEl =\n",
              "        document.querySelector('#df-0309ff5e-7a3a-4742-ab59-e6a0a5ea0d07 button.colab-df-convert');\n",
              "      buttonEl.style.display =\n",
              "        google.colab.kernel.accessAllowed ? 'block' : 'none';\n",
              "\n",
              "      async function convertToInteractive(key) {\n",
              "        const element = document.querySelector('#df-0309ff5e-7a3a-4742-ab59-e6a0a5ea0d07');\n",
              "        const dataTable =\n",
              "          await google.colab.kernel.invokeFunction('convertToInteractive',\n",
              "                                                    [key], {});\n",
              "        if (!dataTable) return;\n",
              "\n",
              "        const docLinkHtml = 'Like what you see? Visit the ' +\n",
              "          '<a target=\"_blank\" href=https://colab.research.google.com/notebooks/data_table.ipynb>data table notebook</a>'\n",
              "          + ' to learn more about interactive tables.';\n",
              "        element.innerHTML = '';\n",
              "        dataTable['output_type'] = 'display_data';\n",
              "        await google.colab.output.renderOutput(dataTable, element);\n",
              "        const docLink = document.createElement('div');\n",
              "        docLink.innerHTML = docLinkHtml;\n",
              "        element.appendChild(docLink);\n",
              "      }\n",
              "    </script>\n",
              "  </div>\n",
              "\n",
              "\n",
              "    <div id=\"df-a0a09651-b8cf-4cee-92c3-200fc90fef01\">\n",
              "      <button class=\"colab-df-quickchart\" onclick=\"quickchart('df-a0a09651-b8cf-4cee-92c3-200fc90fef01')\"\n",
              "                title=\"Suggest charts\"\n",
              "                style=\"display:none;\">\n",
              "\n",
              "<svg xmlns=\"http://www.w3.org/2000/svg\" height=\"24px\"viewBox=\"0 0 24 24\"\n",
              "     width=\"24px\">\n",
              "    <g>\n",
              "        <path d=\"M19 3H5c-1.1 0-2 .9-2 2v14c0 1.1.9 2 2 2h14c1.1 0 2-.9 2-2V5c0-1.1-.9-2-2-2zM9 17H7v-7h2v7zm4 0h-2V7h2v10zm4 0h-2v-4h2v4z\"/>\n",
              "    </g>\n",
              "</svg>\n",
              "      </button>\n",
              "\n",
              "<style>\n",
              "  .colab-df-quickchart {\n",
              "      --bg-color: #E8F0FE;\n",
              "      --fill-color: #1967D2;\n",
              "      --hover-bg-color: #E2EBFA;\n",
              "      --hover-fill-color: #174EA6;\n",
              "      --disabled-fill-color: #AAA;\n",
              "      --disabled-bg-color: #DDD;\n",
              "  }\n",
              "\n",
              "  [theme=dark] .colab-df-quickchart {\n",
              "      --bg-color: #3B4455;\n",
              "      --fill-color: #D2E3FC;\n",
              "      --hover-bg-color: #434B5C;\n",
              "      --hover-fill-color: #FFFFFF;\n",
              "      --disabled-bg-color: #3B4455;\n",
              "      --disabled-fill-color: #666;\n",
              "  }\n",
              "\n",
              "  .colab-df-quickchart {\n",
              "    background-color: var(--bg-color);\n",
              "    border: none;\n",
              "    border-radius: 50%;\n",
              "    cursor: pointer;\n",
              "    display: none;\n",
              "    fill: var(--fill-color);\n",
              "    height: 32px;\n",
              "    padding: 0;\n",
              "    width: 32px;\n",
              "  }\n",
              "\n",
              "  .colab-df-quickchart:hover {\n",
              "    background-color: var(--hover-bg-color);\n",
              "    box-shadow: 0 1px 2px rgba(60, 64, 67, 0.3), 0 1px 3px 1px rgba(60, 64, 67, 0.15);\n",
              "    fill: var(--button-hover-fill-color);\n",
              "  }\n",
              "\n",
              "  .colab-df-quickchart-complete:disabled,\n",
              "  .colab-df-quickchart-complete:disabled:hover {\n",
              "    background-color: var(--disabled-bg-color);\n",
              "    fill: var(--disabled-fill-color);\n",
              "    box-shadow: none;\n",
              "  }\n",
              "\n",
              "  .colab-df-spinner {\n",
              "    border: 2px solid var(--fill-color);\n",
              "    border-color: transparent;\n",
              "    border-bottom-color: var(--fill-color);\n",
              "    animation:\n",
              "      spin 1s steps(1) infinite;\n",
              "  }\n",
              "\n",
              "  @keyframes spin {\n",
              "    0% {\n",
              "      border-color: transparent;\n",
              "      border-bottom-color: var(--fill-color);\n",
              "      border-left-color: var(--fill-color);\n",
              "    }\n",
              "    20% {\n",
              "      border-color: transparent;\n",
              "      border-left-color: var(--fill-color);\n",
              "      border-top-color: var(--fill-color);\n",
              "    }\n",
              "    30% {\n",
              "      border-color: transparent;\n",
              "      border-left-color: var(--fill-color);\n",
              "      border-top-color: var(--fill-color);\n",
              "      border-right-color: var(--fill-color);\n",
              "    }\n",
              "    40% {\n",
              "      border-color: transparent;\n",
              "      border-right-color: var(--fill-color);\n",
              "      border-top-color: var(--fill-color);\n",
              "    }\n",
              "    60% {\n",
              "      border-color: transparent;\n",
              "      border-right-color: var(--fill-color);\n",
              "    }\n",
              "    80% {\n",
              "      border-color: transparent;\n",
              "      border-right-color: var(--fill-color);\n",
              "      border-bottom-color: var(--fill-color);\n",
              "    }\n",
              "    90% {\n",
              "      border-color: transparent;\n",
              "      border-bottom-color: var(--fill-color);\n",
              "    }\n",
              "  }\n",
              "</style>\n",
              "\n",
              "      <script>\n",
              "        async function quickchart(key) {\n",
              "          const quickchartButtonEl =\n",
              "            document.querySelector('#' + key + ' button');\n",
              "          quickchartButtonEl.disabled = true;  // To prevent multiple clicks.\n",
              "          quickchartButtonEl.classList.add('colab-df-spinner');\n",
              "          try {\n",
              "            const charts = await google.colab.kernel.invokeFunction(\n",
              "                'suggestCharts', [key], {});\n",
              "          } catch (error) {\n",
              "            console.error('Error during call to suggestCharts:', error);\n",
              "          }\n",
              "          quickchartButtonEl.classList.remove('colab-df-spinner');\n",
              "          quickchartButtonEl.classList.add('colab-df-quickchart-complete');\n",
              "        }\n",
              "        (() => {\n",
              "          let quickchartButtonEl =\n",
              "            document.querySelector('#df-a0a09651-b8cf-4cee-92c3-200fc90fef01 button');\n",
              "          quickchartButtonEl.style.display =\n",
              "            google.colab.kernel.accessAllowed ? 'block' : 'none';\n",
              "        })();\n",
              "      </script>\n",
              "    </div>\n",
              "\n",
              "    </div>\n",
              "  </div>\n"
            ],
            "application/vnd.google.colaboratory.intrinsic+json": {
              "type": "dataframe",
              "variable_name": "df",
              "summary": "{\n  \"name\": \"df\",\n  \"rows\": 150,\n  \"fields\": [\n    {\n      \"column\": \"sepal_length\",\n      \"properties\": {\n        \"dtype\": \"number\",\n        \"std\": 0.8280661279778629,\n        \"min\": 4.3,\n        \"max\": 7.9,\n        \"num_unique_values\": 35,\n        \"samples\": [\n          6.2,\n          4.5,\n          5.6\n        ],\n        \"semantic_type\": \"\",\n        \"description\": \"\"\n      }\n    },\n    {\n      \"column\": \"sepal_width\",\n      \"properties\": {\n        \"dtype\": \"number\",\n        \"std\": 0.435866284936698,\n        \"min\": 2.0,\n        \"max\": 4.4,\n        \"num_unique_values\": 23,\n        \"samples\": [\n          2.3,\n          4.0,\n          3.5\n        ],\n        \"semantic_type\": \"\",\n        \"description\": \"\"\n      }\n    },\n    {\n      \"column\": \"petal_length\",\n      \"properties\": {\n        \"dtype\": \"number\",\n        \"std\": 1.7652982332594667,\n        \"min\": 1.0,\n        \"max\": 6.9,\n        \"num_unique_values\": 43,\n        \"samples\": [\n          6.7,\n          3.8,\n          3.7\n        ],\n        \"semantic_type\": \"\",\n        \"description\": \"\"\n      }\n    },\n    {\n      \"column\": \"petal_width\",\n      \"properties\": {\n        \"dtype\": \"number\",\n        \"std\": 0.7622376689603465,\n        \"min\": 0.1,\n        \"max\": 2.5,\n        \"num_unique_values\": 22,\n        \"samples\": [\n          0.2,\n          1.2,\n          1.3\n        ],\n        \"semantic_type\": \"\",\n        \"description\": \"\"\n      }\n    },\n    {\n      \"column\": \"species\",\n      \"properties\": {\n        \"dtype\": \"category\",\n        \"num_unique_values\": 3,\n        \"samples\": [\n          \"setosa\",\n          \"versicolor\",\n          \"virginica\"\n        ],\n        \"semantic_type\": \"\",\n        \"description\": \"\"\n      }\n    }\n  ]\n}"
            }
          },
          "metadata": {},
          "execution_count": 89
        }
      ]
    },
    {
      "cell_type": "markdown",
      "id": "e7d4f7f9-6710-49fa-b2cc-6203f8d44b1b",
      "metadata": {
        "id": "e7d4f7f9-6710-49fa-b2cc-6203f8d44b1b"
      },
      "source": [
        "# Data Preprocessing"
      ]
    },
    {
      "cell_type": "code",
      "source": [
        "# ubah variabel kategorik ke numerik\n",
        "..."
      ],
      "metadata": {
        "id": "jf-HfsR-9W-7"
      },
      "id": "jf-HfsR-9W-7",
      "execution_count": 90,
      "outputs": []
    },
    {
      "cell_type": "code",
      "source": [
        "from sklearn.preprocessing import LabelEncoder\n",
        "\n",
        "le = LabelEncoder()\n",
        "df['species'] = le.fit_transform(df['species'])"
      ],
      "metadata": {
        "id": "B6RRzszCJQJ2"
      },
      "id": "B6RRzszCJQJ2",
      "execution_count": 91,
      "outputs": []
    },
    {
      "cell_type": "code",
      "execution_count": 92,
      "id": "ff2683bf-e81d-4642-a2dd-b56eec436f67",
      "metadata": {
        "id": "ff2683bf-e81d-4642-a2dd-b56eec436f67"
      },
      "outputs": [],
      "source": [
        "# subsetting peubah\n",
        "X = df.drop(['species'], axis=1)\n",
        "y = df['species']"
      ]
    },
    {
      "cell_type": "markdown",
      "id": "613a4b6d-2978-4d2e-a91d-0e562fdbdcd4",
      "metadata": {
        "id": "613a4b6d-2978-4d2e-a91d-0e562fdbdcd4"
      },
      "source": [
        "# Dataset Splitting"
      ]
    },
    {
      "cell_type": "code",
      "execution_count": 93,
      "id": "4cf8cc4c-a3fa-4e20-bb9f-7ddf7600b4e7",
      "metadata": {
        "id": "4cf8cc4c-a3fa-4e20-bb9f-7ddf7600b4e7"
      },
      "outputs": [],
      "source": [
        "# split dengan rasio 80:20\n",
        "..."
      ]
    },
    {
      "cell_type": "code",
      "source": [
        "from sklearn.model_selection import train_test_split\n",
        "\n",
        "X_train, X_test, y_train, y_test = train_test_split(\n",
        "    X, y, test_size=0.2, random_state=42\n",
        ")"
      ],
      "metadata": {
        "id": "AgFYCYDLJUHD"
      },
      "id": "AgFYCYDLJUHD",
      "execution_count": 94,
      "outputs": []
    },
    {
      "cell_type": "markdown",
      "id": "ba864b86-6e12-4eb3-8193-460a48f29a03",
      "metadata": {
        "id": "ba864b86-6e12-4eb3-8193-460a48f29a03"
      },
      "source": [
        "# Base Model Random Forest"
      ]
    },
    {
      "cell_type": "code",
      "execution_count": 95,
      "id": "597f4149-97a4-4981-833c-3d0ac122594b",
      "metadata": {
        "id": "597f4149-97a4-4981-833c-3d0ac122594b",
        "outputId": "1af62e53-8d54-46ac-90d6-b216075ec997",
        "colab": {
          "base_uri": "https://localhost:8080/",
          "height": 80
        }
      },
      "outputs": [
        {
          "output_type": "execute_result",
          "data": {
            "text/plain": [
              "RandomForestClassifier(random_state=69)"
            ],
            "text/html": [
              "<style>#sk-container-id-5 {\n",
              "  /* Definition of color scheme common for light and dark mode */\n",
              "  --sklearn-color-text: #000;\n",
              "  --sklearn-color-text-muted: #666;\n",
              "  --sklearn-color-line: gray;\n",
              "  /* Definition of color scheme for unfitted estimators */\n",
              "  --sklearn-color-unfitted-level-0: #fff5e6;\n",
              "  --sklearn-color-unfitted-level-1: #f6e4d2;\n",
              "  --sklearn-color-unfitted-level-2: #ffe0b3;\n",
              "  --sklearn-color-unfitted-level-3: chocolate;\n",
              "  /* Definition of color scheme for fitted estimators */\n",
              "  --sklearn-color-fitted-level-0: #f0f8ff;\n",
              "  --sklearn-color-fitted-level-1: #d4ebff;\n",
              "  --sklearn-color-fitted-level-2: #b3dbfd;\n",
              "  --sklearn-color-fitted-level-3: cornflowerblue;\n",
              "\n",
              "  /* Specific color for light theme */\n",
              "  --sklearn-color-text-on-default-background: var(--sg-text-color, var(--theme-code-foreground, var(--jp-content-font-color1, black)));\n",
              "  --sklearn-color-background: var(--sg-background-color, var(--theme-background, var(--jp-layout-color0, white)));\n",
              "  --sklearn-color-border-box: var(--sg-text-color, var(--theme-code-foreground, var(--jp-content-font-color1, black)));\n",
              "  --sklearn-color-icon: #696969;\n",
              "\n",
              "  @media (prefers-color-scheme: dark) {\n",
              "    /* Redefinition of color scheme for dark theme */\n",
              "    --sklearn-color-text-on-default-background: var(--sg-text-color, var(--theme-code-foreground, var(--jp-content-font-color1, white)));\n",
              "    --sklearn-color-background: var(--sg-background-color, var(--theme-background, var(--jp-layout-color0, #111)));\n",
              "    --sklearn-color-border-box: var(--sg-text-color, var(--theme-code-foreground, var(--jp-content-font-color1, white)));\n",
              "    --sklearn-color-icon: #878787;\n",
              "  }\n",
              "}\n",
              "\n",
              "#sk-container-id-5 {\n",
              "  color: var(--sklearn-color-text);\n",
              "}\n",
              "\n",
              "#sk-container-id-5 pre {\n",
              "  padding: 0;\n",
              "}\n",
              "\n",
              "#sk-container-id-5 input.sk-hidden--visually {\n",
              "  border: 0;\n",
              "  clip: rect(1px 1px 1px 1px);\n",
              "  clip: rect(1px, 1px, 1px, 1px);\n",
              "  height: 1px;\n",
              "  margin: -1px;\n",
              "  overflow: hidden;\n",
              "  padding: 0;\n",
              "  position: absolute;\n",
              "  width: 1px;\n",
              "}\n",
              "\n",
              "#sk-container-id-5 div.sk-dashed-wrapped {\n",
              "  border: 1px dashed var(--sklearn-color-line);\n",
              "  margin: 0 0.4em 0.5em 0.4em;\n",
              "  box-sizing: border-box;\n",
              "  padding-bottom: 0.4em;\n",
              "  background-color: var(--sklearn-color-background);\n",
              "}\n",
              "\n",
              "#sk-container-id-5 div.sk-container {\n",
              "  /* jupyter's `normalize.less` sets `[hidden] { display: none; }`\n",
              "     but bootstrap.min.css set `[hidden] { display: none !important; }`\n",
              "     so we also need the `!important` here to be able to override the\n",
              "     default hidden behavior on the sphinx rendered scikit-learn.org.\n",
              "     See: https://github.com/scikit-learn/scikit-learn/issues/21755 */\n",
              "  display: inline-block !important;\n",
              "  position: relative;\n",
              "}\n",
              "\n",
              "#sk-container-id-5 div.sk-text-repr-fallback {\n",
              "  display: none;\n",
              "}\n",
              "\n",
              "div.sk-parallel-item,\n",
              "div.sk-serial,\n",
              "div.sk-item {\n",
              "  /* draw centered vertical line to link estimators */\n",
              "  background-image: linear-gradient(var(--sklearn-color-text-on-default-background), var(--sklearn-color-text-on-default-background));\n",
              "  background-size: 2px 100%;\n",
              "  background-repeat: no-repeat;\n",
              "  background-position: center center;\n",
              "}\n",
              "\n",
              "/* Parallel-specific style estimator block */\n",
              "\n",
              "#sk-container-id-5 div.sk-parallel-item::after {\n",
              "  content: \"\";\n",
              "  width: 100%;\n",
              "  border-bottom: 2px solid var(--sklearn-color-text-on-default-background);\n",
              "  flex-grow: 1;\n",
              "}\n",
              "\n",
              "#sk-container-id-5 div.sk-parallel {\n",
              "  display: flex;\n",
              "  align-items: stretch;\n",
              "  justify-content: center;\n",
              "  background-color: var(--sklearn-color-background);\n",
              "  position: relative;\n",
              "}\n",
              "\n",
              "#sk-container-id-5 div.sk-parallel-item {\n",
              "  display: flex;\n",
              "  flex-direction: column;\n",
              "}\n",
              "\n",
              "#sk-container-id-5 div.sk-parallel-item:first-child::after {\n",
              "  align-self: flex-end;\n",
              "  width: 50%;\n",
              "}\n",
              "\n",
              "#sk-container-id-5 div.sk-parallel-item:last-child::after {\n",
              "  align-self: flex-start;\n",
              "  width: 50%;\n",
              "}\n",
              "\n",
              "#sk-container-id-5 div.sk-parallel-item:only-child::after {\n",
              "  width: 0;\n",
              "}\n",
              "\n",
              "/* Serial-specific style estimator block */\n",
              "\n",
              "#sk-container-id-5 div.sk-serial {\n",
              "  display: flex;\n",
              "  flex-direction: column;\n",
              "  align-items: center;\n",
              "  background-color: var(--sklearn-color-background);\n",
              "  padding-right: 1em;\n",
              "  padding-left: 1em;\n",
              "}\n",
              "\n",
              "\n",
              "/* Toggleable style: style used for estimator/Pipeline/ColumnTransformer box that is\n",
              "clickable and can be expanded/collapsed.\n",
              "- Pipeline and ColumnTransformer use this feature and define the default style\n",
              "- Estimators will overwrite some part of the style using the `sk-estimator` class\n",
              "*/\n",
              "\n",
              "/* Pipeline and ColumnTransformer style (default) */\n",
              "\n",
              "#sk-container-id-5 div.sk-toggleable {\n",
              "  /* Default theme specific background. It is overwritten whether we have a\n",
              "  specific estimator or a Pipeline/ColumnTransformer */\n",
              "  background-color: var(--sklearn-color-background);\n",
              "}\n",
              "\n",
              "/* Toggleable label */\n",
              "#sk-container-id-5 label.sk-toggleable__label {\n",
              "  cursor: pointer;\n",
              "  display: flex;\n",
              "  width: 100%;\n",
              "  margin-bottom: 0;\n",
              "  padding: 0.5em;\n",
              "  box-sizing: border-box;\n",
              "  text-align: center;\n",
              "  align-items: start;\n",
              "  justify-content: space-between;\n",
              "  gap: 0.5em;\n",
              "}\n",
              "\n",
              "#sk-container-id-5 label.sk-toggleable__label .caption {\n",
              "  font-size: 0.6rem;\n",
              "  font-weight: lighter;\n",
              "  color: var(--sklearn-color-text-muted);\n",
              "}\n",
              "\n",
              "#sk-container-id-5 label.sk-toggleable__label-arrow:before {\n",
              "  /* Arrow on the left of the label */\n",
              "  content: \"▸\";\n",
              "  float: left;\n",
              "  margin-right: 0.25em;\n",
              "  color: var(--sklearn-color-icon);\n",
              "}\n",
              "\n",
              "#sk-container-id-5 label.sk-toggleable__label-arrow:hover:before {\n",
              "  color: var(--sklearn-color-text);\n",
              "}\n",
              "\n",
              "/* Toggleable content - dropdown */\n",
              "\n",
              "#sk-container-id-5 div.sk-toggleable__content {\n",
              "  max-height: 0;\n",
              "  max-width: 0;\n",
              "  overflow: hidden;\n",
              "  text-align: left;\n",
              "  /* unfitted */\n",
              "  background-color: var(--sklearn-color-unfitted-level-0);\n",
              "}\n",
              "\n",
              "#sk-container-id-5 div.sk-toggleable__content.fitted {\n",
              "  /* fitted */\n",
              "  background-color: var(--sklearn-color-fitted-level-0);\n",
              "}\n",
              "\n",
              "#sk-container-id-5 div.sk-toggleable__content pre {\n",
              "  margin: 0.2em;\n",
              "  border-radius: 0.25em;\n",
              "  color: var(--sklearn-color-text);\n",
              "  /* unfitted */\n",
              "  background-color: var(--sklearn-color-unfitted-level-0);\n",
              "}\n",
              "\n",
              "#sk-container-id-5 div.sk-toggleable__content.fitted pre {\n",
              "  /* unfitted */\n",
              "  background-color: var(--sklearn-color-fitted-level-0);\n",
              "}\n",
              "\n",
              "#sk-container-id-5 input.sk-toggleable__control:checked~div.sk-toggleable__content {\n",
              "  /* Expand drop-down */\n",
              "  max-height: 200px;\n",
              "  max-width: 100%;\n",
              "  overflow: auto;\n",
              "}\n",
              "\n",
              "#sk-container-id-5 input.sk-toggleable__control:checked~label.sk-toggleable__label-arrow:before {\n",
              "  content: \"▾\";\n",
              "}\n",
              "\n",
              "/* Pipeline/ColumnTransformer-specific style */\n",
              "\n",
              "#sk-container-id-5 div.sk-label input.sk-toggleable__control:checked~label.sk-toggleable__label {\n",
              "  color: var(--sklearn-color-text);\n",
              "  background-color: var(--sklearn-color-unfitted-level-2);\n",
              "}\n",
              "\n",
              "#sk-container-id-5 div.sk-label.fitted input.sk-toggleable__control:checked~label.sk-toggleable__label {\n",
              "  background-color: var(--sklearn-color-fitted-level-2);\n",
              "}\n",
              "\n",
              "/* Estimator-specific style */\n",
              "\n",
              "/* Colorize estimator box */\n",
              "#sk-container-id-5 div.sk-estimator input.sk-toggleable__control:checked~label.sk-toggleable__label {\n",
              "  /* unfitted */\n",
              "  background-color: var(--sklearn-color-unfitted-level-2);\n",
              "}\n",
              "\n",
              "#sk-container-id-5 div.sk-estimator.fitted input.sk-toggleable__control:checked~label.sk-toggleable__label {\n",
              "  /* fitted */\n",
              "  background-color: var(--sklearn-color-fitted-level-2);\n",
              "}\n",
              "\n",
              "#sk-container-id-5 div.sk-label label.sk-toggleable__label,\n",
              "#sk-container-id-5 div.sk-label label {\n",
              "  /* The background is the default theme color */\n",
              "  color: var(--sklearn-color-text-on-default-background);\n",
              "}\n",
              "\n",
              "/* On hover, darken the color of the background */\n",
              "#sk-container-id-5 div.sk-label:hover label.sk-toggleable__label {\n",
              "  color: var(--sklearn-color-text);\n",
              "  background-color: var(--sklearn-color-unfitted-level-2);\n",
              "}\n",
              "\n",
              "/* Label box, darken color on hover, fitted */\n",
              "#sk-container-id-5 div.sk-label.fitted:hover label.sk-toggleable__label.fitted {\n",
              "  color: var(--sklearn-color-text);\n",
              "  background-color: var(--sklearn-color-fitted-level-2);\n",
              "}\n",
              "\n",
              "/* Estimator label */\n",
              "\n",
              "#sk-container-id-5 div.sk-label label {\n",
              "  font-family: monospace;\n",
              "  font-weight: bold;\n",
              "  display: inline-block;\n",
              "  line-height: 1.2em;\n",
              "}\n",
              "\n",
              "#sk-container-id-5 div.sk-label-container {\n",
              "  text-align: center;\n",
              "}\n",
              "\n",
              "/* Estimator-specific */\n",
              "#sk-container-id-5 div.sk-estimator {\n",
              "  font-family: monospace;\n",
              "  border: 1px dotted var(--sklearn-color-border-box);\n",
              "  border-radius: 0.25em;\n",
              "  box-sizing: border-box;\n",
              "  margin-bottom: 0.5em;\n",
              "  /* unfitted */\n",
              "  background-color: var(--sklearn-color-unfitted-level-0);\n",
              "}\n",
              "\n",
              "#sk-container-id-5 div.sk-estimator.fitted {\n",
              "  /* fitted */\n",
              "  background-color: var(--sklearn-color-fitted-level-0);\n",
              "}\n",
              "\n",
              "/* on hover */\n",
              "#sk-container-id-5 div.sk-estimator:hover {\n",
              "  /* unfitted */\n",
              "  background-color: var(--sklearn-color-unfitted-level-2);\n",
              "}\n",
              "\n",
              "#sk-container-id-5 div.sk-estimator.fitted:hover {\n",
              "  /* fitted */\n",
              "  background-color: var(--sklearn-color-fitted-level-2);\n",
              "}\n",
              "\n",
              "/* Specification for estimator info (e.g. \"i\" and \"?\") */\n",
              "\n",
              "/* Common style for \"i\" and \"?\" */\n",
              "\n",
              ".sk-estimator-doc-link,\n",
              "a:link.sk-estimator-doc-link,\n",
              "a:visited.sk-estimator-doc-link {\n",
              "  float: right;\n",
              "  font-size: smaller;\n",
              "  line-height: 1em;\n",
              "  font-family: monospace;\n",
              "  background-color: var(--sklearn-color-background);\n",
              "  border-radius: 1em;\n",
              "  height: 1em;\n",
              "  width: 1em;\n",
              "  text-decoration: none !important;\n",
              "  margin-left: 0.5em;\n",
              "  text-align: center;\n",
              "  /* unfitted */\n",
              "  border: var(--sklearn-color-unfitted-level-1) 1pt solid;\n",
              "  color: var(--sklearn-color-unfitted-level-1);\n",
              "}\n",
              "\n",
              ".sk-estimator-doc-link.fitted,\n",
              "a:link.sk-estimator-doc-link.fitted,\n",
              "a:visited.sk-estimator-doc-link.fitted {\n",
              "  /* fitted */\n",
              "  border: var(--sklearn-color-fitted-level-1) 1pt solid;\n",
              "  color: var(--sklearn-color-fitted-level-1);\n",
              "}\n",
              "\n",
              "/* On hover */\n",
              "div.sk-estimator:hover .sk-estimator-doc-link:hover,\n",
              ".sk-estimator-doc-link:hover,\n",
              "div.sk-label-container:hover .sk-estimator-doc-link:hover,\n",
              ".sk-estimator-doc-link:hover {\n",
              "  /* unfitted */\n",
              "  background-color: var(--sklearn-color-unfitted-level-3);\n",
              "  color: var(--sklearn-color-background);\n",
              "  text-decoration: none;\n",
              "}\n",
              "\n",
              "div.sk-estimator.fitted:hover .sk-estimator-doc-link.fitted:hover,\n",
              ".sk-estimator-doc-link.fitted:hover,\n",
              "div.sk-label-container:hover .sk-estimator-doc-link.fitted:hover,\n",
              ".sk-estimator-doc-link.fitted:hover {\n",
              "  /* fitted */\n",
              "  background-color: var(--sklearn-color-fitted-level-3);\n",
              "  color: var(--sklearn-color-background);\n",
              "  text-decoration: none;\n",
              "}\n",
              "\n",
              "/* Span, style for the box shown on hovering the info icon */\n",
              ".sk-estimator-doc-link span {\n",
              "  display: none;\n",
              "  z-index: 9999;\n",
              "  position: relative;\n",
              "  font-weight: normal;\n",
              "  right: .2ex;\n",
              "  padding: .5ex;\n",
              "  margin: .5ex;\n",
              "  width: min-content;\n",
              "  min-width: 20ex;\n",
              "  max-width: 50ex;\n",
              "  color: var(--sklearn-color-text);\n",
              "  box-shadow: 2pt 2pt 4pt #999;\n",
              "  /* unfitted */\n",
              "  background: var(--sklearn-color-unfitted-level-0);\n",
              "  border: .5pt solid var(--sklearn-color-unfitted-level-3);\n",
              "}\n",
              "\n",
              ".sk-estimator-doc-link.fitted span {\n",
              "  /* fitted */\n",
              "  background: var(--sklearn-color-fitted-level-0);\n",
              "  border: var(--sklearn-color-fitted-level-3);\n",
              "}\n",
              "\n",
              ".sk-estimator-doc-link:hover span {\n",
              "  display: block;\n",
              "}\n",
              "\n",
              "/* \"?\"-specific style due to the `<a>` HTML tag */\n",
              "\n",
              "#sk-container-id-5 a.estimator_doc_link {\n",
              "  float: right;\n",
              "  font-size: 1rem;\n",
              "  line-height: 1em;\n",
              "  font-family: monospace;\n",
              "  background-color: var(--sklearn-color-background);\n",
              "  border-radius: 1rem;\n",
              "  height: 1rem;\n",
              "  width: 1rem;\n",
              "  text-decoration: none;\n",
              "  /* unfitted */\n",
              "  color: var(--sklearn-color-unfitted-level-1);\n",
              "  border: var(--sklearn-color-unfitted-level-1) 1pt solid;\n",
              "}\n",
              "\n",
              "#sk-container-id-5 a.estimator_doc_link.fitted {\n",
              "  /* fitted */\n",
              "  border: var(--sklearn-color-fitted-level-1) 1pt solid;\n",
              "  color: var(--sklearn-color-fitted-level-1);\n",
              "}\n",
              "\n",
              "/* On hover */\n",
              "#sk-container-id-5 a.estimator_doc_link:hover {\n",
              "  /* unfitted */\n",
              "  background-color: var(--sklearn-color-unfitted-level-3);\n",
              "  color: var(--sklearn-color-background);\n",
              "  text-decoration: none;\n",
              "}\n",
              "\n",
              "#sk-container-id-5 a.estimator_doc_link.fitted:hover {\n",
              "  /* fitted */\n",
              "  background-color: var(--sklearn-color-fitted-level-3);\n",
              "}\n",
              "</style><div id=\"sk-container-id-5\" class=\"sk-top-container\"><div class=\"sk-text-repr-fallback\"><pre>RandomForestClassifier(random_state=69)</pre><b>In a Jupyter environment, please rerun this cell to show the HTML representation or trust the notebook. <br />On GitHub, the HTML representation is unable to render, please try loading this page with nbviewer.org.</b></div><div class=\"sk-container\" hidden><div class=\"sk-item\"><div class=\"sk-estimator fitted sk-toggleable\"><input class=\"sk-toggleable__control sk-hidden--visually\" id=\"sk-estimator-id-5\" type=\"checkbox\" checked><label for=\"sk-estimator-id-5\" class=\"sk-toggleable__label fitted sk-toggleable__label-arrow\"><div><div>RandomForestClassifier</div></div><div><a class=\"sk-estimator-doc-link fitted\" rel=\"noreferrer\" target=\"_blank\" href=\"https://scikit-learn.org/1.6/modules/generated/sklearn.ensemble.RandomForestClassifier.html\">?<span>Documentation for RandomForestClassifier</span></a><span class=\"sk-estimator-doc-link fitted\">i<span>Fitted</span></span></div></label><div class=\"sk-toggleable__content fitted\"><pre>RandomForestClassifier(random_state=69)</pre></div> </div></div></div></div>"
            ]
          },
          "metadata": {},
          "execution_count": 95
        }
      ],
      "source": [
        "# gunakan random forest classifier\n",
        "from sklearn.ensemble import RandomForestClassifier\n",
        "\n",
        "rfr = RandomForestClassifier(random_state=69)\n",
        "rfr.fit(X_train, y_train)"
      ]
    },
    {
      "cell_type": "code",
      "execution_count": 96,
      "id": "84618159-62e1-43ea-ad52-9e0d971cbc34",
      "metadata": {
        "id": "84618159-62e1-43ea-ad52-9e0d971cbc34"
      },
      "outputs": [],
      "source": [
        "y_pred = rfr.predict(X_test)"
      ]
    },
    {
      "cell_type": "code",
      "source": [
        "from sklearn.metrics import accuracy_score, precision_score, recall_score, f1_score, classification_report\n",
        "\n",
        "print(f\"Accuracy: {accuracy_score(y_test, y_pred):.3f}\")\n",
        "print(f\"Precision: {precision_score(y_test, y_pred, average='weighted'):.3f}\")\n",
        "print(f\"Recall: {recall_score(y_test, y_pred, average='weighted'):.3f}\")\n",
        "print(f\"F1 Score: {f1_score(y_test, y_pred, average='weighted'):.3f}\")\n",
        "print(classification_report(y_test, y_pred))"
      ],
      "metadata": {
        "colab": {
          "base_uri": "https://localhost:8080/"
        },
        "id": "9GiVMFL0DDI1",
        "outputId": "bb4ec112-c286-4708-b362-643ad6d7e0e1"
      },
      "id": "9GiVMFL0DDI1",
      "execution_count": 97,
      "outputs": [
        {
          "output_type": "stream",
          "name": "stdout",
          "text": [
            "Accuracy: 1.000\n",
            "Precision: 1.000\n",
            "Recall: 1.000\n",
            "F1 Score: 1.000\n",
            "              precision    recall  f1-score   support\n",
            "\n",
            "           0       1.00      1.00      1.00        10\n",
            "           1       1.00      1.00      1.00         9\n",
            "           2       1.00      1.00      1.00        11\n",
            "\n",
            "    accuracy                           1.00        30\n",
            "   macro avg       1.00      1.00      1.00        30\n",
            "weighted avg       1.00      1.00      1.00        30\n",
            "\n"
          ]
        }
      ]
    },
    {
      "cell_type": "markdown",
      "id": "8a836fe2-f63f-4f10-9a02-0153e0b30eb1",
      "metadata": {
        "id": "8a836fe2-f63f-4f10-9a02-0153e0b30eb1"
      },
      "source": [
        "# Optuna"
      ]
    },
    {
      "cell_type": "code",
      "execution_count": 98,
      "id": "6795b9e8-2008-4fea-a4bc-0ed04e8840a7",
      "metadata": {
        "id": "6795b9e8-2008-4fea-a4bc-0ed04e8840a7"
      },
      "outputs": [],
      "source": [
        "def objective(trial):\n",
        "    ...\n",
        "\n",
        "    model = ...\n",
        "\n",
        "    score = ...\n",
        "\n",
        "    return score.mean()"
      ]
    },
    {
      "cell_type": "code",
      "source": [
        "def objective(trial):\n",
        "    n_estimators = trial.suggest_int('n_estimators', 50, 300)\n",
        "    max_depth = trial.suggest_int('max_depth', 2, 20)\n",
        "    min_samples_split = trial.suggest_int('min_samples_split', 2, 20)\n",
        "    min_samples_leaf = trial.suggest_int('min_samples_leaf', 1, 20)\n",
        "\n",
        "    model = RandomForestClassifier(\n",
        "        n_estimators=n_estimators,\n",
        "        max_depth=max_depth,\n",
        "        min_samples_split=min_samples_split,\n",
        "        min_samples_leaf=min_samples_leaf,\n",
        "        random_state=42\n",
        "    )\n",
        "\n",
        "    score = cross_val_score(\n",
        "        model, X_train, y_train,\n",
        "        cv=5,\n",
        "        scoring=\"accuracy\"\n",
        "    )\n",
        "\n",
        "    return score.mean()"
      ],
      "metadata": {
        "id": "tDk4bYxCKKkF"
      },
      "id": "tDk4bYxCKKkF",
      "execution_count": 99,
      "outputs": []
    },
    {
      "cell_type": "markdown",
      "id": "c09964a0-4135-4c5b-99c4-baf6e50651c6",
      "metadata": {
        "id": "c09964a0-4135-4c5b-99c4-baf6e50651c6"
      },
      "source": [
        "Hyperparameter dapat disesuaikan dengan algoritma yang digunakan. Kali ini kita menggunakan Random Forest sehingga yang dapat kita select adalah *n_estimators, max_depth, min_samples_split,* dan *min_samples_leaf*"
      ]
    },
    {
      "cell_type": "code",
      "execution_count": 100,
      "id": "391f8db9-edba-491d-9b5a-28ccd91089b9",
      "metadata": {
        "id": "391f8db9-edba-491d-9b5a-28ccd91089b9",
        "outputId": "2184e4af-464f-4641-e7cf-c383b7d3f27b",
        "colab": {
          "base_uri": "https://localhost:8080/"
        }
      },
      "outputs": [
        {
          "output_type": "stream",
          "name": "stderr",
          "text": [
            "[I 2025-10-04 17:13:52,673] A new study created in memory with name: no-name-84a0b4fd-ea3b-4c6c-8ca0-50f302ec9c0d\n"
          ]
        }
      ],
      "source": [
        "study = optuna.create_study(direction=\"maximize\")"
      ]
    },
    {
      "cell_type": "code",
      "execution_count": 101,
      "id": "89bbc84f-cffc-4eda-85bb-e6f92399e512",
      "metadata": {
        "scrolled": true,
        "id": "89bbc84f-cffc-4eda-85bb-e6f92399e512",
        "outputId": "b5e7f8a1-a238-4b0c-d26b-cc78fd300259",
        "colab": {
          "base_uri": "https://localhost:8080/"
        }
      },
      "outputs": [
        {
          "output_type": "stream",
          "name": "stderr",
          "text": [
            "[I 2025-10-04 17:13:53,691] Trial 0 finished with value: 0.9416666666666667 and parameters: {'n_estimators': 72, 'max_depth': 20, 'min_samples_split': 10, 'min_samples_leaf': 5}. Best is trial 0 with value: 0.9416666666666667.\n",
            "[I 2025-10-04 17:13:55,805] Trial 1 finished with value: 0.95 and parameters: {'n_estimators': 172, 'max_depth': 18, 'min_samples_split': 11, 'min_samples_leaf': 18}. Best is trial 1 with value: 0.95.\n",
            "[I 2025-10-04 17:14:01,200] Trial 2 finished with value: 0.925 and parameters: {'n_estimators': 261, 'max_depth': 14, 'min_samples_split': 9, 'min_samples_leaf': 19}. Best is trial 1 with value: 0.95.\n",
            "[I 2025-10-04 17:14:03,904] Trial 3 finished with value: 0.95 and parameters: {'n_estimators': 113, 'max_depth': 10, 'min_samples_split': 17, 'min_samples_leaf': 1}. Best is trial 1 with value: 0.95.\n",
            "[I 2025-10-04 17:14:06,218] Trial 4 finished with value: 0.925 and parameters: {'n_estimators': 73, 'max_depth': 12, 'min_samples_split': 10, 'min_samples_leaf': 17}. Best is trial 1 with value: 0.95.\n",
            "[I 2025-10-04 17:14:07,320] Trial 5 finished with value: 0.9416666666666667 and parameters: {'n_estimators': 53, 'max_depth': 18, 'min_samples_split': 11, 'min_samples_leaf': 13}. Best is trial 1 with value: 0.95.\n",
            "[I 2025-10-04 17:14:11,030] Trial 6 finished with value: 0.9416666666666667 and parameters: {'n_estimators': 172, 'max_depth': 17, 'min_samples_split': 20, 'min_samples_leaf': 4}. Best is trial 1 with value: 0.95.\n",
            "[I 2025-10-04 17:14:11,728] Trial 7 finished with value: 0.95 and parameters: {'n_estimators': 80, 'max_depth': 11, 'min_samples_split': 9, 'min_samples_leaf': 3}. Best is trial 1 with value: 0.95.\n",
            "[I 2025-10-04 17:14:12,893] Trial 8 finished with value: 0.9416666666666668 and parameters: {'n_estimators': 143, 'max_depth': 8, 'min_samples_split': 12, 'min_samples_leaf': 20}. Best is trial 1 with value: 0.95.\n",
            "[I 2025-10-04 17:14:15,249] Trial 9 finished with value: 0.9416666666666667 and parameters: {'n_estimators': 297, 'max_depth': 13, 'min_samples_split': 8, 'min_samples_leaf': 6}. Best is trial 1 with value: 0.95.\n",
            "[I 2025-10-04 17:14:17,752] Trial 10 finished with value: 0.9416666666666667 and parameters: {'n_estimators': 219, 'max_depth': 2, 'min_samples_split': 3, 'min_samples_leaf': 12}. Best is trial 1 with value: 0.95.\n",
            "[I 2025-10-04 17:14:19,009] Trial 11 finished with value: 0.9416666666666667 and parameters: {'n_estimators': 119, 'max_depth': 7, 'min_samples_split': 17, 'min_samples_leaf': 9}. Best is trial 1 with value: 0.95.\n",
            "[I 2025-10-04 17:14:20,655] Trial 12 finished with value: 0.95 and parameters: {'n_estimators': 202, 'max_depth': 8, 'min_samples_split': 15, 'min_samples_leaf': 1}. Best is trial 1 with value: 0.95.\n",
            "[I 2025-10-04 17:14:21,683] Trial 13 finished with value: 0.9416666666666667 and parameters: {'n_estimators': 126, 'max_depth': 16, 'min_samples_split': 15, 'min_samples_leaf': 15}. Best is trial 1 with value: 0.95.\n",
            "[I 2025-10-04 17:14:23,020] Trial 14 finished with value: 0.9416666666666667 and parameters: {'n_estimators': 164, 'max_depth': 5, 'min_samples_split': 5, 'min_samples_leaf': 10}. Best is trial 1 with value: 0.95.\n",
            "[I 2025-10-04 17:14:24,695] Trial 15 finished with value: 0.9416666666666667 and parameters: {'n_estimators': 209, 'max_depth': 10, 'min_samples_split': 20, 'min_samples_leaf': 8}. Best is trial 1 with value: 0.95.\n",
            "[I 2025-10-04 17:14:25,571] Trial 16 finished with value: 0.9416666666666667 and parameters: {'n_estimators': 105, 'max_depth': 15, 'min_samples_split': 13, 'min_samples_leaf': 16}. Best is trial 1 with value: 0.95.\n",
            "[I 2025-10-04 17:14:26,810] Trial 17 finished with value: 0.9416666666666667 and parameters: {'n_estimators': 150, 'max_depth': 20, 'min_samples_split': 18, 'min_samples_leaf': 13}. Best is trial 1 with value: 0.95.\n",
            "[I 2025-10-04 17:14:28,355] Trial 18 finished with value: 0.9416666666666667 and parameters: {'n_estimators': 189, 'max_depth': 10, 'min_samples_split': 14, 'min_samples_leaf': 7}. Best is trial 1 with value: 0.95.\n",
            "[I 2025-10-04 17:14:31,373] Trial 19 finished with value: 0.95 and parameters: {'n_estimators': 244, 'max_depth': 5, 'min_samples_split': 17, 'min_samples_leaf': 1}. Best is trial 1 with value: 0.95.\n",
            "[I 2025-10-04 17:14:32,235] Trial 20 finished with value: 0.9416666666666667 and parameters: {'n_estimators': 104, 'max_depth': 18, 'min_samples_split': 7, 'min_samples_leaf': 18}. Best is trial 1 with value: 0.95.\n",
            "[I 2025-10-04 17:14:32,975] Trial 21 finished with value: 0.9666666666666666 and parameters: {'n_estimators': 86, 'max_depth': 11, 'min_samples_split': 6, 'min_samples_leaf': 3}. Best is trial 21 with value: 0.9666666666666666.\n",
            "[I 2025-10-04 17:14:33,825] Trial 22 finished with value: 0.95 and parameters: {'n_estimators': 100, 'max_depth': 13, 'min_samples_split': 2, 'min_samples_leaf': 2}. Best is trial 21 with value: 0.9666666666666666.\n",
            "[I 2025-10-04 17:14:34,955] Trial 23 finished with value: 0.9416666666666667 and parameters: {'n_estimators': 135, 'max_depth': 9, 'min_samples_split': 6, 'min_samples_leaf': 4}. Best is trial 21 with value: 0.9666666666666666.\n",
            "[I 2025-10-04 17:14:35,457] Trial 24 finished with value: 0.95 and parameters: {'n_estimators': 55, 'max_depth': 6, 'min_samples_split': 4, 'min_samples_leaf': 3}. Best is trial 21 with value: 0.9666666666666666.\n",
            "[I 2025-10-04 17:14:36,194] Trial 25 finished with value: 0.9416666666666667 and parameters: {'n_estimators': 87, 'max_depth': 12, 'min_samples_split': 12, 'min_samples_leaf': 6}. Best is trial 21 with value: 0.9666666666666666.\n",
            "[I 2025-10-04 17:14:37,474] Trial 26 finished with value: 0.9416666666666667 and parameters: {'n_estimators': 156, 'max_depth': 3, 'min_samples_split': 7, 'min_samples_leaf': 11}. Best is trial 21 with value: 0.9666666666666666.\n",
            "[I 2025-10-04 17:14:38,442] Trial 27 finished with value: 0.9416666666666667 and parameters: {'n_estimators': 118, 'max_depth': 15, 'min_samples_split': 15, 'min_samples_leaf': 15}. Best is trial 21 with value: 0.9666666666666666.\n",
            "[I 2025-10-04 17:14:40,110] Trial 28 finished with value: 0.95 and parameters: {'n_estimators': 192, 'max_depth': 10, 'min_samples_split': 5, 'min_samples_leaf': 1}. Best is trial 21 with value: 0.9666666666666666.\n",
            "[I 2025-10-04 17:14:40,882] Trial 29 finished with value: 0.9416666666666667 and parameters: {'n_estimators': 89, 'max_depth': 19, 'min_samples_split': 11, 'min_samples_leaf': 5}. Best is trial 21 with value: 0.9666666666666666.\n",
            "[I 2025-10-04 17:14:43,840] Trial 30 finished with value: 0.9416666666666667 and parameters: {'n_estimators': 229, 'max_depth': 12, 'min_samples_split': 19, 'min_samples_leaf': 8}. Best is trial 21 with value: 0.9666666666666666.\n",
            "[I 2025-10-04 17:14:44,595] Trial 31 finished with value: 0.9416666666666667 and parameters: {'n_estimators': 77, 'max_depth': 11, 'min_samples_split': 9, 'min_samples_leaf': 3}. Best is trial 21 with value: 0.9666666666666666.\n",
            "[I 2025-10-04 17:14:45,146] Trial 32 finished with value: 0.9416666666666667 and parameters: {'n_estimators': 61, 'max_depth': 14, 'min_samples_split': 9, 'min_samples_leaf': 3}. Best is trial 21 with value: 0.9666666666666666.\n",
            "[I 2025-10-04 17:14:45,758] Trial 33 finished with value: 0.9416666666666667 and parameters: {'n_estimators': 71, 'max_depth': 11, 'min_samples_split': 10, 'min_samples_leaf': 2}. Best is trial 21 with value: 0.9666666666666666.\n",
            "[I 2025-10-04 17:14:46,552] Trial 34 finished with value: 0.9416666666666667 and parameters: {'n_estimators': 90, 'max_depth': 9, 'min_samples_split': 8, 'min_samples_leaf': 5}. Best is trial 21 with value: 0.9666666666666666.\n",
            "[I 2025-10-04 17:14:47,183] Trial 35 finished with value: 0.9416666666666667 and parameters: {'n_estimators': 71, 'max_depth': 13, 'min_samples_split': 12, 'min_samples_leaf': 4}. Best is trial 21 with value: 0.9666666666666666.\n",
            "[I 2025-10-04 17:14:48,302] Trial 36 finished with value: 0.95 and parameters: {'n_estimators': 132, 'max_depth': 9, 'min_samples_split': 10, 'min_samples_leaf': 2}. Best is trial 21 with value: 0.9666666666666666.\n",
            "[I 2025-10-04 17:14:49,237] Trial 37 finished with value: 0.9416666666666667 and parameters: {'n_estimators': 109, 'max_depth': 14, 'min_samples_split': 8, 'min_samples_leaf': 20}. Best is trial 21 with value: 0.9666666666666666.\n",
            "[I 2025-10-04 17:14:51,546] Trial 38 finished with value: 0.9416666666666667 and parameters: {'n_estimators': 282, 'max_depth': 11, 'min_samples_split': 6, 'min_samples_leaf': 6}. Best is trial 21 with value: 0.9666666666666666.\n",
            "[I 2025-10-04 17:14:53,012] Trial 39 finished with value: 0.95 and parameters: {'n_estimators': 178, 'max_depth': 7, 'min_samples_split': 11, 'min_samples_leaf': 18}. Best is trial 21 with value: 0.9666666666666666.\n",
            "[I 2025-10-04 17:14:53,587] Trial 40 finished with value: 0.9416666666666667 and parameters: {'n_estimators': 61, 'max_depth': 17, 'min_samples_split': 13, 'min_samples_leaf': 13}. Best is trial 21 with value: 0.9666666666666666.\n",
            "[I 2025-10-04 17:14:56,148] Trial 41 finished with value: 0.95 and parameters: {'n_estimators': 202, 'max_depth': 8, 'min_samples_split': 16, 'min_samples_leaf': 1}. Best is trial 21 with value: 0.9666666666666666.\n",
            "[I 2025-10-04 17:14:58,479] Trial 42 finished with value: 0.9416666666666667 and parameters: {'n_estimators': 241, 'max_depth': 8, 'min_samples_split': 16, 'min_samples_leaf': 2}. Best is trial 21 with value: 0.9666666666666666.\n",
            "[I 2025-10-04 17:15:00,028] Trial 43 finished with value: 0.95 and parameters: {'n_estimators': 179, 'max_depth': 7, 'min_samples_split': 18, 'min_samples_leaf': 4}. Best is trial 21 with value: 0.9666666666666666.\n",
            "[I 2025-10-04 17:15:01,436] Trial 44 finished with value: 0.95 and parameters: {'n_estimators': 162, 'max_depth': 10, 'min_samples_split': 15, 'min_samples_leaf': 1}. Best is trial 21 with value: 0.9666666666666666.\n",
            "[I 2025-10-04 17:15:02,756] Trial 45 finished with value: 0.9416666666666667 and parameters: {'n_estimators': 142, 'max_depth': 11, 'min_samples_split': 13, 'min_samples_leaf': 3}. Best is trial 21 with value: 0.9666666666666666.\n",
            "[I 2025-10-04 17:15:04,666] Trial 46 finished with value: 0.9416666666666667 and parameters: {'n_estimators': 223, 'max_depth': 12, 'min_samples_split': 19, 'min_samples_leaf': 4}. Best is trial 21 with value: 0.9666666666666666.\n",
            "[I 2025-10-04 17:15:05,665] Trial 47 finished with value: 0.9416666666666667 and parameters: {'n_estimators': 117, 'max_depth': 6, 'min_samples_split': 7, 'min_samples_leaf': 10}. Best is trial 21 with value: 0.9666666666666666.\n",
            "[I 2025-10-04 17:15:08,533] Trial 48 finished with value: 0.95 and parameters: {'n_estimators': 264, 'max_depth': 8, 'min_samples_split': 14, 'min_samples_leaf': 1}. Best is trial 21 with value: 0.9666666666666666.\n",
            "[I 2025-10-04 17:15:09,650] Trial 49 finished with value: 0.9416666666666667 and parameters: {'n_estimators': 81, 'max_depth': 9, 'min_samples_split': 17, 'min_samples_leaf': 5}. Best is trial 21 with value: 0.9666666666666666.\n"
          ]
        }
      ],
      "source": [
        "study.optimize(objective, n_trials=50)"
      ]
    },
    {
      "cell_type": "markdown",
      "id": "b4be1e87-44e8-47e0-84fc-bd0360ac75c4",
      "metadata": {
        "id": "b4be1e87-44e8-47e0-84fc-bd0360ac75c4"
      },
      "source": [
        "it may take a while... so just wait n see ^^\n",
        "<br>\n",
        "they recommend to set n_trials at 100 cz it seems there's no significant score increase after 100 trials (also inefficient too, you'll have to wait in a quite long time)"
      ]
    },
    {
      "cell_type": "code",
      "execution_count": 102,
      "id": "fd29b3c9-c995-4400-8912-b448d57123a0",
      "metadata": {
        "scrolled": true,
        "id": "fd29b3c9-c995-4400-8912-b448d57123a0",
        "outputId": "9d13bd8b-d711-4177-8e75-84dacb85dae6",
        "colab": {
          "base_uri": "https://localhost:8080/"
        }
      },
      "outputs": [
        {
          "output_type": "execute_result",
          "data": {
            "text/plain": [
              "{'n_estimators': 86,\n",
              " 'max_depth': 11,\n",
              " 'min_samples_split': 6,\n",
              " 'min_samples_leaf': 3}"
            ]
          },
          "metadata": {},
          "execution_count": 102
        }
      ],
      "source": [
        "study.best_params"
      ]
    },
    {
      "cell_type": "markdown",
      "id": "2d237d95-758a-4912-91c2-824ce140a034",
      "metadata": {
        "id": "2d237d95-758a-4912-91c2-824ce140a034"
      },
      "source": [
        "Berikut hasil hyperparameter tuning dari Optuna"
      ]
    },
    {
      "cell_type": "code",
      "execution_count": 103,
      "id": "df96a601-d6df-4a96-8d1e-f89e79293b02",
      "metadata": {
        "id": "df96a601-d6df-4a96-8d1e-f89e79293b02"
      },
      "outputs": [],
      "source": [
        "# cek hasil hyperparameter tuning dari Optuna\n"
      ]
    },
    {
      "cell_type": "code",
      "source": [
        "print(\"Best parameters:\", study.best_params)\n",
        "print(\"Best score:\", study.best_value)"
      ],
      "metadata": {
        "colab": {
          "base_uri": "https://localhost:8080/"
        },
        "id": "fJ9Y70USNBYC",
        "outputId": "1b23eb37-9a3d-4dad-93c9-1caef9e7b3a4"
      },
      "id": "fJ9Y70USNBYC",
      "execution_count": 104,
      "outputs": [
        {
          "output_type": "stream",
          "name": "stdout",
          "text": [
            "Best parameters: {'n_estimators': 86, 'max_depth': 11, 'min_samples_split': 6, 'min_samples_leaf': 3}\n",
            "Best score: 0.9666666666666666\n"
          ]
        }
      ]
    },
    {
      "cell_type": "markdown",
      "id": "4b830d4e-4e08-4ced-a78e-c7ae9e5e7a26",
      "metadata": {
        "id": "4b830d4e-4e08-4ced-a78e-c7ae9e5e7a26"
      },
      "source": [
        "# Random Forest Using Optuna"
      ]
    },
    {
      "cell_type": "code",
      "execution_count": 105,
      "id": "3059ffb1-940a-4f7b-a4ea-7e555b5651c3",
      "metadata": {
        "id": "3059ffb1-940a-4f7b-a4ea-7e555b5651c3"
      },
      "outputs": [],
      "source": [
        "# simpan hasil best hyperparameter tuning ke variabel bari\n",
        "..."
      ]
    },
    {
      "cell_type": "code",
      "source": [
        "best_params = study.best_params"
      ],
      "metadata": {
        "id": "jWYBuba-NEw4"
      },
      "id": "jWYBuba-NEw4",
      "execution_count": 106,
      "outputs": []
    },
    {
      "cell_type": "code",
      "execution_count": 85,
      "id": "c8a747ff-1fde-4774-9c0a-f2f83f90ad81",
      "metadata": {
        "id": "c8a747ff-1fde-4774-9c0a-f2f83f90ad81",
        "outputId": "336a0a27-20b7-4ecd-8bd8-9e55feabdf99",
        "colab": {
          "base_uri": "https://localhost:8080/",
          "height": 176
        }
      },
      "outputs": [
        {
          "output_type": "error",
          "ename": "AttributeError",
          "evalue": "'ellipsis' object has no attribute 'fit'",
          "traceback": [
            "\u001b[0;31m---------------------------------------------------------------------------\u001b[0m",
            "\u001b[0;31mAttributeError\u001b[0m                            Traceback (most recent call last)",
            "\u001b[0;32m/tmp/ipython-input-2901163774.py\u001b[0m in \u001b[0;36m<cell line: 0>\u001b[0;34m()\u001b[0m\n\u001b[1;32m      1\u001b[0m \u001b[0mbest_model\u001b[0m \u001b[0;34m=\u001b[0m \u001b[0;34m...\u001b[0m\u001b[0;34m\u001b[0m\u001b[0;34m\u001b[0m\u001b[0m\n\u001b[1;32m      2\u001b[0m \u001b[0;34m\u001b[0m\u001b[0m\n\u001b[0;32m----> 3\u001b[0;31m \u001b[0mbest_model\u001b[0m\u001b[0;34m.\u001b[0m\u001b[0mfit\u001b[0m\u001b[0;34m(\u001b[0m\u001b[0mX_train\u001b[0m\u001b[0;34m,\u001b[0m \u001b[0my_train\u001b[0m\u001b[0;34m)\u001b[0m\u001b[0;34m\u001b[0m\u001b[0;34m\u001b[0m\u001b[0m\n\u001b[0m",
            "\u001b[0;31mAttributeError\u001b[0m: 'ellipsis' object has no attribute 'fit'"
          ]
        }
      ],
      "source": [
        "best_model = ...\n",
        "\n",
        "best_model.fit(X_train, y_train)"
      ]
    },
    {
      "cell_type": "code",
      "source": [
        "best_model = RandomForestClassifier(\n",
        "    n_estimators=best_params['n_estimators'],\n",
        "    max_depth=best_params['max_depth'],\n",
        "    min_samples_split=best_params['min_samples_split'],\n",
        "    min_samples_leaf=best_params['min_samples_leaf'],\n",
        "    random_state=42\n",
        ")"
      ],
      "metadata": {
        "id": "S6oEAZOSNHdz"
      },
      "id": "S6oEAZOSNHdz",
      "execution_count": 107,
      "outputs": []
    },
    {
      "cell_type": "code",
      "execution_count": 108,
      "id": "b3f9ad09-ca4d-4fb6-a205-1cb5d00a9857",
      "metadata": {
        "id": "b3f9ad09-ca4d-4fb6-a205-1cb5d00a9857",
        "colab": {
          "base_uri": "https://localhost:8080/",
          "height": 287
        },
        "outputId": "44974038-b8c8-4520-8546-7c857d011e73"
      },
      "outputs": [
        {
          "output_type": "error",
          "ename": "NotFittedError",
          "evalue": "This RandomForestClassifier instance is not fitted yet. Call 'fit' with appropriate arguments before using this estimator.",
          "traceback": [
            "\u001b[0;31m---------------------------------------------------------------------------\u001b[0m",
            "\u001b[0;31mNotFittedError\u001b[0m                            Traceback (most recent call last)",
            "\u001b[0;32m/tmp/ipython-input-2239895252.py\u001b[0m in \u001b[0;36m<cell line: 0>\u001b[0;34m()\u001b[0m\n\u001b[0;32m----> 1\u001b[0;31m \u001b[0my_pred\u001b[0m \u001b[0;34m=\u001b[0m \u001b[0mbest_model\u001b[0m\u001b[0;34m.\u001b[0m\u001b[0mpredict\u001b[0m\u001b[0;34m(\u001b[0m\u001b[0mX_test\u001b[0m\u001b[0;34m)\u001b[0m\u001b[0;34m\u001b[0m\u001b[0;34m\u001b[0m\u001b[0m\n\u001b[0m",
            "\u001b[0;32m/usr/local/lib/python3.12/dist-packages/sklearn/ensemble/_forest.py\u001b[0m in \u001b[0;36mpredict\u001b[0;34m(self, X)\u001b[0m\n\u001b[1;32m    902\u001b[0m             \u001b[0mThe\u001b[0m \u001b[0mpredicted\u001b[0m \u001b[0mclasses\u001b[0m\u001b[0;34m.\u001b[0m\u001b[0;34m\u001b[0m\u001b[0;34m\u001b[0m\u001b[0m\n\u001b[1;32m    903\u001b[0m         \"\"\"\n\u001b[0;32m--> 904\u001b[0;31m         \u001b[0mproba\u001b[0m \u001b[0;34m=\u001b[0m \u001b[0mself\u001b[0m\u001b[0;34m.\u001b[0m\u001b[0mpredict_proba\u001b[0m\u001b[0;34m(\u001b[0m\u001b[0mX\u001b[0m\u001b[0;34m)\u001b[0m\u001b[0;34m\u001b[0m\u001b[0;34m\u001b[0m\u001b[0m\n\u001b[0m\u001b[1;32m    905\u001b[0m \u001b[0;34m\u001b[0m\u001b[0m\n\u001b[1;32m    906\u001b[0m         \u001b[0;32mif\u001b[0m \u001b[0mself\u001b[0m\u001b[0;34m.\u001b[0m\u001b[0mn_outputs_\u001b[0m \u001b[0;34m==\u001b[0m \u001b[0;36m1\u001b[0m\u001b[0;34m:\u001b[0m\u001b[0;34m\u001b[0m\u001b[0;34m\u001b[0m\u001b[0m\n",
            "\u001b[0;32m/usr/local/lib/python3.12/dist-packages/sklearn/ensemble/_forest.py\u001b[0m in \u001b[0;36mpredict_proba\u001b[0;34m(self, X)\u001b[0m\n\u001b[1;32m    942\u001b[0m             \u001b[0mclasses\u001b[0m \u001b[0mcorresponds\u001b[0m \u001b[0mto\u001b[0m \u001b[0mthat\u001b[0m \u001b[0;32min\u001b[0m \u001b[0mthe\u001b[0m \u001b[0mattribute\u001b[0m \u001b[0;34m:\u001b[0m\u001b[0mterm\u001b[0m\u001b[0;34m:\u001b[0m\u001b[0;31m`\u001b[0m\u001b[0mclasses_\u001b[0m\u001b[0;31m`\u001b[0m\u001b[0;34m.\u001b[0m\u001b[0;34m\u001b[0m\u001b[0;34m\u001b[0m\u001b[0m\n\u001b[1;32m    943\u001b[0m         \"\"\"\n\u001b[0;32m--> 944\u001b[0;31m         \u001b[0mcheck_is_fitted\u001b[0m\u001b[0;34m(\u001b[0m\u001b[0mself\u001b[0m\u001b[0;34m)\u001b[0m\u001b[0;34m\u001b[0m\u001b[0;34m\u001b[0m\u001b[0m\n\u001b[0m\u001b[1;32m    945\u001b[0m         \u001b[0;31m# Check data\u001b[0m\u001b[0;34m\u001b[0m\u001b[0;34m\u001b[0m\u001b[0m\n\u001b[1;32m    946\u001b[0m         \u001b[0mX\u001b[0m \u001b[0;34m=\u001b[0m \u001b[0mself\u001b[0m\u001b[0;34m.\u001b[0m\u001b[0m_validate_X_predict\u001b[0m\u001b[0;34m(\u001b[0m\u001b[0mX\u001b[0m\u001b[0;34m)\u001b[0m\u001b[0;34m\u001b[0m\u001b[0;34m\u001b[0m\u001b[0m\n",
            "\u001b[0;32m/usr/local/lib/python3.12/dist-packages/sklearn/utils/validation.py\u001b[0m in \u001b[0;36mcheck_is_fitted\u001b[0;34m(estimator, attributes, msg, all_or_any)\u001b[0m\n\u001b[1;32m   1755\u001b[0m \u001b[0;34m\u001b[0m\u001b[0m\n\u001b[1;32m   1756\u001b[0m     \u001b[0;32mif\u001b[0m \u001b[0;32mnot\u001b[0m \u001b[0m_is_fitted\u001b[0m\u001b[0;34m(\u001b[0m\u001b[0mestimator\u001b[0m\u001b[0;34m,\u001b[0m \u001b[0mattributes\u001b[0m\u001b[0;34m,\u001b[0m \u001b[0mall_or_any\u001b[0m\u001b[0;34m)\u001b[0m\u001b[0;34m:\u001b[0m\u001b[0;34m\u001b[0m\u001b[0;34m\u001b[0m\u001b[0m\n\u001b[0;32m-> 1757\u001b[0;31m         \u001b[0;32mraise\u001b[0m \u001b[0mNotFittedError\u001b[0m\u001b[0;34m(\u001b[0m\u001b[0mmsg\u001b[0m \u001b[0;34m%\u001b[0m \u001b[0;34m{\u001b[0m\u001b[0;34m\"name\"\u001b[0m\u001b[0;34m:\u001b[0m \u001b[0mtype\u001b[0m\u001b[0;34m(\u001b[0m\u001b[0mestimator\u001b[0m\u001b[0;34m)\u001b[0m\u001b[0;34m.\u001b[0m\u001b[0m__name__\u001b[0m\u001b[0;34m}\u001b[0m\u001b[0;34m)\u001b[0m\u001b[0;34m\u001b[0m\u001b[0;34m\u001b[0m\u001b[0m\n\u001b[0m\u001b[1;32m   1758\u001b[0m \u001b[0;34m\u001b[0m\u001b[0m\n\u001b[1;32m   1759\u001b[0m \u001b[0;34m\u001b[0m\u001b[0m\n",
            "\u001b[0;31mNotFittedError\u001b[0m: This RandomForestClassifier instance is not fitted yet. Call 'fit' with appropriate arguments before using this estimator."
          ]
        }
      ],
      "source": [
        "y_pred = best_model.predict(X_test)"
      ]
    },
    {
      "cell_type": "code",
      "execution_count": null,
      "id": "69d588db-1c12-4c78-8e55-0800b5f6375c",
      "metadata": {
        "id": "69d588db-1c12-4c78-8e55-0800b5f6375c"
      },
      "outputs": [],
      "source": [
        "print(f\"Accuracy: {accuracy_score(y_test, y_pred):.3f}\")\n",
        "print(f\"Precision: {precision_score(y_test, y_pred, average='weighted'):.3f}\")\n",
        "print(f\"Recall: {recall_score(y_test, y_pred, average='weighted'):.3f}\")\n",
        "print(f\"F1 Score: {f1_score(y_test, y_pred, average='weighted'):.3f}\")\n",
        "print(classification_report(y_test, y_pred))"
      ]
    },
    {
      "cell_type": "markdown",
      "id": "7459396f-8ae6-4742-85db-717afac20a44",
      "metadata": {
        "id": "7459396f-8ae6-4742-85db-717afac20a44"
      },
      "source": [
        "Tidak terdapat kenaikan skor dengan sebelum menggunakan Optuna sebab skor yang dihasilkan melalui base model saja sudah bagus"
      ]
    }
  ],
  "metadata": {
    "kernelspec": {
      "display_name": "Python [conda env:jcopml]",
      "language": "python",
      "name": "conda-env-jcopml-py"
    },
    "language_info": {
      "codemirror_mode": {
        "name": "ipython",
        "version": 3
      },
      "file_extension": ".py",
      "mimetype": "text/x-python",
      "name": "python",
      "nbconvert_exporter": "python",
      "pygments_lexer": "ipython3",
      "version": "3.9.0"
    },
    "colab": {
      "provenance": []
    }
  },
  "nbformat": 4,
  "nbformat_minor": 5
}